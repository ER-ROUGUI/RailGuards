{
 "cells": [
  {
   "cell_type": "markdown",
   "id": "2U6-RcNVXpSP",
   "metadata": {
    "id": "2U6-RcNVXpSP"
   },
   "source": [
    "# Data Processing\n"
   ]
  },
  {
   "cell_type": "code",
   "execution_count": 6,
   "id": "791292f6",
   "metadata": {
    "colab": {
     "base_uri": "https://localhost:8080/"
    },
    "id": "791292f6",
    "outputId": "c1bc410d-514d-4465-9e75-ae2d8815a639"
   },
   "outputs": [
    {
     "name": "stdout",
     "output_type": "stream",
     "text": [
      "<class 'pandas.core.frame.DataFrame'>\n",
      "RangeIndex: 59445 entries, 0 to 59444\n",
      "Data columns (total 18 columns):\n",
      " #   Column           Non-Null Count  Dtype  \n",
      "---  ------           --------------  -----  \n",
      " 0   Unnamed: 0       59445 non-null  int64  \n",
      " 1   timestamp        59445 non-null  object \n",
      " 2   TP2              59445 non-null  float64\n",
      " 3   TP3              59445 non-null  float64\n",
      " 4   H1               59445 non-null  float64\n",
      " 5   DV_pressure      59445 non-null  float64\n",
      " 6   Reservoirs       59445 non-null  float64\n",
      " 7   Oil_temperature  59445 non-null  float64\n",
      " 8   Motor_current    59445 non-null  float64\n",
      " 9   COMP             59445 non-null  float64\n",
      " 10  DV_eletric       59445 non-null  float64\n",
      " 11  Towers           59445 non-null  float64\n",
      " 12  MPG              59445 non-null  float64\n",
      " 13  LPS              59445 non-null  float64\n",
      " 14  Pressure_switch  59445 non-null  float64\n",
      " 15  Oil_level        59445 non-null  float64\n",
      " 16  Caudal_impulses  59445 non-null  float64\n",
      " 17  status           59445 non-null  int64  \n",
      "dtypes: float64(15), int64(2), object(1)\n",
      "memory usage: 8.2+ MB\n",
      "None\n"
     ]
    }
   ],
   "source": [
    "from sklearn.model_selection import train_test_split\n",
    "from sklearn.linear_model import LogisticRegression\n",
    "from sklearn.metrics import classification_report, ConfusionMatrixDisplay, accuracy_score, confusion_matrix\n",
    "from sklearn.metrics import roc_curve, auc\n",
    "import matplotlib.pyplot as plt\n",
    "import pandas as pd\n",
    "import seaborn as sns\n",
    "\n",
    "\n",
    "import numpy as np\n",
    "\n",
    "# data = pd.read_csv(\"MetroPT3.csv\")\n",
    "data = pd.read_csv(\"RailGuadrs_Clean_Data.csv\")\n",
    "print(data.info())"
   ]
  },
  {
   "cell_type": "markdown",
   "id": "7uLEBO473Bll",
   "metadata": {
    "id": "7uLEBO473Bll"
   },
   "source": [
    "# Data Introduction"
   ]
  },
  {
   "cell_type": "markdown",
   "id": "i_iR7xMJVv-i",
   "metadata": {
    "id": "i_iR7xMJVv-i"
   },
   "source": [
    "The MetroPT-3 dataset was designed to facilitate the development of predictive maintenance, anomaly detection, and remaining useful life (RUL) prediction models for train compressors using deep learning and machine learning techniques. It comprises multivariate time series data collected from various analog and digital sensors installed on a train compressor. The data, recorded between February and August 2020, includes 15 signals such as pressures, motor current, oil temperature, and electrical signals from air intake valves. This dataset is suitable for incremental training and contains no sensitive information. Data preprocessing involves segmentation, normalization, and feature extraction. While the dataset itself is unlabeled, failure reports provided by the company are available to evaluate the performance of anomaly detection, failure prediction, and RUL estimation algorithms. Notably, the dataset does not contain any missing values.\n",
    "\n",
    "\n",
    "the link : https://archive.ics.uci.edu/dataset/791/metropt+3+dataset"
   ]
  },
  {
   "cell_type": "markdown",
   "id": "tlgQsE5x3fEE",
   "metadata": {
    "id": "tlgQsE5x3fEE"
   },
   "source": [
    "## Data Overview"
   ]
  },
  {
   "cell_type": "code",
   "execution_count": 7,
   "id": "8f0b8b88",
   "metadata": {
    "colab": {
     "base_uri": "https://localhost:8080/"
    },
    "id": "8f0b8b88",
    "outputId": "5b149794-596b-4525-883d-3e218668cb76"
   },
   "outputs": [
    {
     "name": "stdout",
     "output_type": "stream",
     "text": [
      "       Unnamed: 0       TP2       TP3        H1  DV_pressure  Reservoirs  \\\n",
      "count    59445.00  59445.00  59445.00  59445.00     59445.00    59445.00   \n",
      "mean    784018.09      4.66      8.66      3.90         0.94        8.66   \n",
      "std     334772.31      4.16      0.62      4.48         1.01        0.62   \n",
      "min         31.00     -0.03      6.89     -0.03        -0.03        6.89   \n",
      "25%     566189.00     -0.01      8.16     -0.01        -0.02        8.16   \n",
      "50%     891860.00      7.27      8.59     -0.00        -0.01        8.59   \n",
      "75%     906843.00      8.36      9.01      8.82         2.01        9.01   \n",
      "max    1516860.00     10.61     10.24     10.25         4.95       10.24   \n",
      "\n",
      "       Oil_temperature  Motor_current      COMP  DV_eletric    Towers  \\\n",
      "count         59445.00       59445.00  59445.00    59445.00  59445.00   \n",
      "mean             68.98           3.74      0.43        0.57      0.72   \n",
      "std               8.16           2.42      0.50        0.50      0.45   \n",
      "min              43.00           0.02      0.00        0.00      0.00   \n",
      "25%              62.45           0.04      0.00        0.00      0.00   \n",
      "50%              72.95           5.34      0.00        1.00      1.00   \n",
      "75%              75.48           5.61      1.00        1.00      1.00   \n",
      "max              89.05           6.98      1.00        1.00      1.00   \n",
      "\n",
      "            MPG       LPS  Pressure_switch  Oil_level  Caudal_impulses  \\\n",
      "count  59445.00  59445.00         59445.00   59445.00         59445.00   \n",
      "mean       0.43      0.01             0.99       0.95             0.97   \n",
      "std        0.49      0.08             0.08       0.22             0.18   \n",
      "min        0.00      0.00             0.00       0.00             0.00   \n",
      "25%        0.00      0.00             1.00       1.00             1.00   \n",
      "50%        0.00      0.00             1.00       1.00             1.00   \n",
      "75%        1.00      0.00             1.00       1.00             1.00   \n",
      "max        1.00      1.00             1.00       1.00             1.00   \n",
      "\n",
      "        status  \n",
      "count  59445.0  \n",
      "mean       0.5  \n",
      "std        0.5  \n",
      "min        0.0  \n",
      "25%        0.0  \n",
      "50%        0.0  \n",
      "75%        1.0  \n",
      "max        1.0  \n",
      "Index(['Unnamed: 0', 'timestamp', 'TP2', 'TP3', 'H1', 'DV_pressure',\n",
      "       'Reservoirs', 'Oil_temperature', 'Motor_current', 'COMP', 'DV_eletric',\n",
      "       'Towers', 'MPG', 'LPS', 'Pressure_switch', 'Oil_level',\n",
      "       'Caudal_impulses', 'status'],\n",
      "      dtype='object')\n"
     ]
    }
   ],
   "source": [
    "print(data.describe().round(2))\n",
    "print(data.columns)"
   ]
  },
  {
   "cell_type": "code",
   "execution_count": 8,
   "id": "1d44ba87-b80a-41fd-982b-061b6cdd81bb",
   "metadata": {
    "colab": {
     "base_uri": "https://localhost:8080/"
    },
    "id": "1d44ba87-b80a-41fd-982b-061b6cdd81bb",
    "outputId": "560e566d-89de-4df0-ff59-3fe32fcd690e"
   },
   "outputs": [
    {
     "data": {
      "text/html": [
       "<div>\n",
       "<style scoped>\n",
       "    .dataframe tbody tr th:only-of-type {\n",
       "        vertical-align: middle;\n",
       "    }\n",
       "\n",
       "    .dataframe tbody tr th {\n",
       "        vertical-align: top;\n",
       "    }\n",
       "\n",
       "    .dataframe thead th {\n",
       "        text-align: right;\n",
       "    }\n",
       "</style>\n",
       "<table border=\"1\" class=\"dataframe\">\n",
       "  <thead>\n",
       "    <tr style=\"text-align: right;\">\n",
       "      <th></th>\n",
       "      <th>Unnamed: 0</th>\n",
       "      <th>timestamp</th>\n",
       "      <th>TP2</th>\n",
       "      <th>TP3</th>\n",
       "      <th>H1</th>\n",
       "      <th>DV_pressure</th>\n",
       "      <th>Reservoirs</th>\n",
       "      <th>Oil_temperature</th>\n",
       "      <th>Motor_current</th>\n",
       "      <th>COMP</th>\n",
       "      <th>DV_eletric</th>\n",
       "      <th>Towers</th>\n",
       "      <th>MPG</th>\n",
       "      <th>LPS</th>\n",
       "      <th>Pressure_switch</th>\n",
       "      <th>Oil_level</th>\n",
       "      <th>Caudal_impulses</th>\n",
       "      <th>status</th>\n",
       "    </tr>\n",
       "  </thead>\n",
       "  <tbody>\n",
       "    <tr>\n",
       "      <th>0</th>\n",
       "      <td>562564</td>\n",
       "      <td>2020-04-18 00:00:01</td>\n",
       "      <td>-0.018</td>\n",
       "      <td>8.248</td>\n",
       "      <td>8.238</td>\n",
       "      <td>-0.024</td>\n",
       "      <td>8.248</td>\n",
       "      <td>49.45</td>\n",
       "      <td>0.04</td>\n",
       "      <td>1.0</td>\n",
       "      <td>0.0</td>\n",
       "      <td>1.0</td>\n",
       "      <td>1.0</td>\n",
       "      <td>0.0</td>\n",
       "      <td>1.0</td>\n",
       "      <td>1.0</td>\n",
       "      <td>1.0</td>\n",
       "      <td>1</td>\n",
       "    </tr>\n",
       "    <tr>\n",
       "      <th>1</th>\n",
       "      <td>562565</td>\n",
       "      <td>2020-04-18 00:00:13</td>\n",
       "      <td>-0.018</td>\n",
       "      <td>8.248</td>\n",
       "      <td>8.238</td>\n",
       "      <td>-0.024</td>\n",
       "      <td>8.248</td>\n",
       "      <td>49.45</td>\n",
       "      <td>0.04</td>\n",
       "      <td>1.0</td>\n",
       "      <td>0.0</td>\n",
       "      <td>1.0</td>\n",
       "      <td>1.0</td>\n",
       "      <td>0.0</td>\n",
       "      <td>1.0</td>\n",
       "      <td>1.0</td>\n",
       "      <td>1.0</td>\n",
       "      <td>1</td>\n",
       "    </tr>\n",
       "    <tr>\n",
       "      <th>2</th>\n",
       "      <td>562566</td>\n",
       "      <td>2020-04-18 00:00:24</td>\n",
       "      <td>-0.018</td>\n",
       "      <td>8.248</td>\n",
       "      <td>8.238</td>\n",
       "      <td>-0.024</td>\n",
       "      <td>8.248</td>\n",
       "      <td>49.45</td>\n",
       "      <td>0.04</td>\n",
       "      <td>1.0</td>\n",
       "      <td>0.0</td>\n",
       "      <td>1.0</td>\n",
       "      <td>1.0</td>\n",
       "      <td>0.0</td>\n",
       "      <td>1.0</td>\n",
       "      <td>1.0</td>\n",
       "      <td>1.0</td>\n",
       "      <td>1</td>\n",
       "    </tr>\n",
       "    <tr>\n",
       "      <th>3</th>\n",
       "      <td>562567</td>\n",
       "      <td>2020-04-18 00:00:36</td>\n",
       "      <td>-0.018</td>\n",
       "      <td>8.248</td>\n",
       "      <td>8.238</td>\n",
       "      <td>-0.024</td>\n",
       "      <td>8.248</td>\n",
       "      <td>49.45</td>\n",
       "      <td>0.04</td>\n",
       "      <td>0.0</td>\n",
       "      <td>0.0</td>\n",
       "      <td>0.0</td>\n",
       "      <td>0.0</td>\n",
       "      <td>0.0</td>\n",
       "      <td>0.0</td>\n",
       "      <td>0.0</td>\n",
       "      <td>0.0</td>\n",
       "      <td>1</td>\n",
       "    </tr>\n",
       "    <tr>\n",
       "      <th>4</th>\n",
       "      <td>562568</td>\n",
       "      <td>2020-04-18 00:00:49</td>\n",
       "      <td>-0.018</td>\n",
       "      <td>8.248</td>\n",
       "      <td>8.238</td>\n",
       "      <td>-0.024</td>\n",
       "      <td>8.248</td>\n",
       "      <td>49.45</td>\n",
       "      <td>0.04</td>\n",
       "      <td>1.0</td>\n",
       "      <td>0.0</td>\n",
       "      <td>1.0</td>\n",
       "      <td>1.0</td>\n",
       "      <td>0.0</td>\n",
       "      <td>1.0</td>\n",
       "      <td>1.0</td>\n",
       "      <td>1.0</td>\n",
       "      <td>1</td>\n",
       "    </tr>\n",
       "  </tbody>\n",
       "</table>\n",
       "</div>"
      ],
      "text/plain": [
       "   Unnamed: 0            timestamp    TP2    TP3     H1  DV_pressure  \\\n",
       "0      562564  2020-04-18 00:00:01 -0.018  8.248  8.238       -0.024   \n",
       "1      562565  2020-04-18 00:00:13 -0.018  8.248  8.238       -0.024   \n",
       "2      562566  2020-04-18 00:00:24 -0.018  8.248  8.238       -0.024   \n",
       "3      562567  2020-04-18 00:00:36 -0.018  8.248  8.238       -0.024   \n",
       "4      562568  2020-04-18 00:00:49 -0.018  8.248  8.238       -0.024   \n",
       "\n",
       "   Reservoirs  Oil_temperature  Motor_current  COMP  DV_eletric  Towers  MPG  \\\n",
       "0       8.248            49.45           0.04   1.0         0.0     1.0  1.0   \n",
       "1       8.248            49.45           0.04   1.0         0.0     1.0  1.0   \n",
       "2       8.248            49.45           0.04   1.0         0.0     1.0  1.0   \n",
       "3       8.248            49.45           0.04   0.0         0.0     0.0  0.0   \n",
       "4       8.248            49.45           0.04   1.0         0.0     1.0  1.0   \n",
       "\n",
       "   LPS  Pressure_switch  Oil_level  Caudal_impulses  status  \n",
       "0  0.0              1.0        1.0              1.0       1  \n",
       "1  0.0              1.0        1.0              1.0       1  \n",
       "2  0.0              1.0        1.0              1.0       1  \n",
       "3  0.0              0.0        0.0              0.0       1  \n",
       "4  0.0              1.0        1.0              1.0       1  "
      ]
     },
     "execution_count": 8,
     "metadata": {},
     "output_type": "execute_result"
    }
   ],
   "source": [
    "data.head()"
   ]
  },
  {
   "cell_type": "markdown",
   "id": "hI6sjTAB92g_",
   "metadata": {
    "id": "hI6sjTAB92g_"
   },
   "source": [
    "## Cleaning\n"
   ]
  },
  {
   "cell_type": "code",
   "execution_count": 9,
   "id": "JAQC3yq4-FOa",
   "metadata": {
    "colab": {
     "base_uri": "https://localhost:8080/"
    },
    "id": "JAQC3yq4-FOa",
    "outputId": "c86f8d17-72ac-448c-8ee3-40225240d371"
   },
   "outputs": [
    {
     "name": "stdout",
     "output_type": "stream",
     "text": [
      "Index(['Unnamed: 0', 'timestamp', 'TP2', 'TP3', 'H1', 'DV_pressure',\n",
      "       'Reservoirs', 'Oil_temperature', 'Motor_current', 'COMP', 'DV_eletric',\n",
      "       'Towers', 'MPG', 'LPS', 'Pressure_switch', 'Oil_level',\n",
      "       'Caudal_impulses', 'status'],\n",
      "      dtype='object')\n"
     ]
    }
   ],
   "source": [
    "print(data.columns)\n",
    "data = data.drop('Unnamed: 0', axis= 1)"
   ]
  },
  {
   "cell_type": "code",
   "execution_count": 10,
   "id": "db151043",
   "metadata": {},
   "outputs": [
    {
     "data": {
      "text/plain": [
       "timestamp          2020-02-01 00:05:07\n",
       "TP2                              -0.03\n",
       "TP3                              6.894\n",
       "H1                              -0.034\n",
       "DV_pressure                     -0.032\n",
       "Reservoirs                       6.892\n",
       "Oil_temperature                   43.0\n",
       "Motor_current                   0.0225\n",
       "COMP                               0.0\n",
       "DV_eletric                         0.0\n",
       "Towers                             0.0\n",
       "MPG                                0.0\n",
       "LPS                                0.0\n",
       "Pressure_switch                    0.0\n",
       "Oil_level                          0.0\n",
       "Caudal_impulses                    0.0\n",
       "status                               0\n",
       "dtype: object"
      ]
     },
     "execution_count": 10,
     "metadata": {},
     "output_type": "execute_result"
    }
   ],
   "source": [
    "\n",
    "data.min()"
   ]
  },
  {
   "cell_type": "markdown",
   "id": "3eb2efc4-bd6e-4501-a39b-6f7ef141c8a1",
   "metadata": {
    "id": "3eb2efc4-bd6e-4501-a39b-6f7ef141c8a1"
   },
   "source": [
    "## Convert the timestamp collumn into pandas.DateTime data type standarzation"
   ]
  },
  {
   "cell_type": "code",
   "execution_count": 11,
   "id": "3355db20",
   "metadata": {},
   "outputs": [
    {
     "data": {
      "text/plain": [
       "timestamp          2020-09-01 03:45:28\n",
       "TP2                             10.614\n",
       "TP3                             10.244\n",
       "H1                              10.246\n",
       "DV_pressure                       4.95\n",
       "Reservoirs                      10.242\n",
       "Oil_temperature                  89.05\n",
       "Motor_current                     6.98\n",
       "COMP                               1.0\n",
       "DV_eletric                         1.0\n",
       "Towers                             1.0\n",
       "MPG                                1.0\n",
       "LPS                                1.0\n",
       "Pressure_switch                    1.0\n",
       "Oil_level                          1.0\n",
       "Caudal_impulses                    1.0\n",
       "status                               1\n",
       "dtype: object"
      ]
     },
     "execution_count": 11,
     "metadata": {},
     "output_type": "execute_result"
    }
   ],
   "source": [
    "data.max()"
   ]
  },
  {
   "cell_type": "code",
   "execution_count": 12,
   "id": "d42c2fe5-79e9-4810-977c-ae7485ea5b52",
   "metadata": {
    "colab": {
     "base_uri": "https://localhost:8080/"
    },
    "id": "d42c2fe5-79e9-4810-977c-ae7485ea5b52",
    "outputId": "480f151c-875c-4011-8725-a8dbdc2c596e"
   },
   "outputs": [
    {
     "name": "stdout",
     "output_type": "stream",
     "text": [
      "Current type of timestamp is <class 'str'>\n",
      "Current type of timestamp is <class 'pandas._libs.tslibs.timestamps.Timestamp'>\n"
     ]
    }
   ],
   "source": [
    "import datetime\n",
    "\n",
    "#Check the current type of timestamp\n",
    "print(f\"Current type of timestamp is {type(data.timestamp[0])}\")\n",
    "\n",
    "#Convert timestamp to pandas.DateTime ISO 8601\n",
    "data['timestamp'] = data['timestamp'].apply(pd.to_datetime, format = \"%Y-%m-%d %H:%M:%S\")\n",
    "\n",
    "#Re-check the type\n",
    "print(f\"Current type of timestamp is {type(data.timestamp[0])}\")"
   ]
  },
  {
   "cell_type": "code",
   "execution_count": 13,
   "id": "5d71d0fd",
   "metadata": {
    "colab": {
     "base_uri": "https://localhost:8080/"
    },
    "id": "5d71d0fd",
    "outputId": "da58eaef-12e4-4444-86d7-6e4b654c45bd"
   },
   "outputs": [
    {
     "name": "stdout",
     "output_type": "stream",
     "text": [
      "            timestamp    TP2    TP3     H1  DV_pressure  Reservoirs  \\\n",
      "0 2020-04-18 00:00:01 -0.018  8.248  8.238       -0.024       8.248   \n",
      "1 2020-04-18 00:00:13 -0.018  8.248  8.238       -0.024       8.248   \n",
      "2 2020-04-18 00:00:24 -0.018  8.248  8.238       -0.024       8.248   \n",
      "3 2020-04-18 00:00:36 -0.018  8.248  8.238       -0.024       8.248   \n",
      "4 2020-04-18 00:00:49 -0.018  8.248  8.238       -0.024       8.248   \n",
      "5 2020-04-18 00:01:01 -0.018  8.248  8.238       -0.024       8.248   \n",
      "6 2020-04-18 00:01:13 -0.018  8.248  8.238       -0.024       8.248   \n",
      "7 2020-04-18 00:01:25 -0.018  8.248  8.238       -0.024       8.248   \n",
      "8 2020-04-18 00:01:37 -0.018  8.248  8.238       -0.024       8.248   \n",
      "9 2020-04-18 00:01:49 -0.018  8.248  8.238       -0.024       8.248   \n",
      "\n",
      "   Oil_temperature  Motor_current  COMP  DV_eletric  Towers  MPG  LPS  \\\n",
      "0            49.45           0.04   1.0         0.0     1.0  1.0  0.0   \n",
      "1            49.45           0.04   1.0         0.0     1.0  1.0  0.0   \n",
      "2            49.45           0.04   1.0         0.0     1.0  1.0  0.0   \n",
      "3            49.45           0.04   0.0         0.0     0.0  0.0  0.0   \n",
      "4            49.45           0.04   1.0         0.0     1.0  1.0  0.0   \n",
      "5            49.45           0.04   1.0         0.0     1.0  1.0  0.0   \n",
      "6            49.45           0.04   1.0         0.0     1.0  1.0  0.0   \n",
      "7            49.45           0.04   1.0         0.0     1.0  1.0  0.0   \n",
      "8            49.45           0.04   1.0         0.0     1.0  1.0  0.0   \n",
      "9            49.45           0.04   0.0         0.0     0.0  0.0  0.0   \n",
      "\n",
      "   Pressure_switch  Oil_level  Caudal_impulses  status  \n",
      "0              1.0        1.0              1.0       1  \n",
      "1              1.0        1.0              1.0       1  \n",
      "2              1.0        1.0              1.0       1  \n",
      "3              0.0        0.0              0.0       1  \n",
      "4              1.0        1.0              1.0       1  \n",
      "5              1.0        1.0              1.0       1  \n",
      "6              1.0        1.0              1.0       1  \n",
      "7              1.0        1.0              1.0       1  \n",
      "8              1.0        1.0              1.0       1  \n",
      "9              0.0        0.0              0.0       1  \n"
     ]
    }
   ],
   "source": [
    "print(data.head(10))"
   ]
  },
  {
   "cell_type": "markdown",
   "id": "5bca1be5-5d0e-4317-a375-dedbe9168c00",
   "metadata": {
    "id": "5bca1be5-5d0e-4317-a375-dedbe9168c00"
   },
   "source": [
    "## Add a label feature"
   ]
  },
  {
   "cell_type": "code",
   "execution_count": 14,
   "id": "g3txUZmdXZU8",
   "metadata": {
    "colab": {
     "base_uri": "https://localhost:8080/"
    },
    "id": "g3txUZmdXZU8",
    "outputId": "5aaa3394-881e-4869-eb84-855a86e51624"
   },
   "outputs": [
    {
     "name": "stdout",
     "output_type": "stream",
     "text": [
      "            timestamp    TP2    TP3     H1  DV_pressure  Reservoirs  \\\n",
      "0 2020-04-18 00:00:01 -0.018  8.248  8.238       -0.024       8.248   \n",
      "1 2020-04-18 00:00:13 -0.018  8.248  8.238       -0.024       8.248   \n",
      "2 2020-04-18 00:00:24 -0.018  8.248  8.238       -0.024       8.248   \n",
      "3 2020-04-18 00:00:36 -0.018  8.248  8.238       -0.024       8.248   \n",
      "4 2020-04-18 00:00:49 -0.018  8.248  8.238       -0.024       8.248   \n",
      "\n",
      "   Oil_temperature  Motor_current  COMP  DV_eletric  Towers  MPG  LPS  \\\n",
      "0            49.45           0.04   1.0         0.0     1.0  1.0  0.0   \n",
      "1            49.45           0.04   1.0         0.0     1.0  1.0  0.0   \n",
      "2            49.45           0.04   1.0         0.0     1.0  1.0  0.0   \n",
      "3            49.45           0.04   0.0         0.0     0.0  0.0  0.0   \n",
      "4            49.45           0.04   1.0         0.0     1.0  1.0  0.0   \n",
      "\n",
      "   Pressure_switch  Oil_level  Caudal_impulses  status  \n",
      "0              1.0        1.0              1.0       0  \n",
      "1              1.0        1.0              1.0       0  \n",
      "2              1.0        1.0              1.0       0  \n",
      "3              0.0        0.0              0.0       0  \n",
      "4              1.0        1.0              1.0       0  \n"
     ]
    }
   ],
   "source": [
    "#Create a new column for target variable called status, indicate the equipment has deficiencies and need to be maintained\n",
    "# status = 0; system ups and running no No Failure\n",
    "# status = 1; system downs and needs recovering ## Failure\n",
    "labeled_data = data.copy()\n",
    "labeled_data['status'] = 0\n",
    "print(labeled_data.head(5))"
   ]
  },
  {
   "cell_type": "code",
   "execution_count": 15,
   "id": "ab649eb6",
   "metadata": {
    "colab": {
     "base_uri": "https://localhost:8080/"
    },
    "id": "ab649eb6",
    "outputId": "a3f95a09-2407-4dfe-9941-e7802dba6193"
   },
   "outputs": [
    {
     "name": "stdout",
     "output_type": "stream",
     "text": [
      "[Timestamp('2020-04-18 00:00:00'), Timestamp('2020-05-29 23:30:00'), Timestamp('2020-06-05 10:00:00'), Timestamp('2020-07-15 14:30:00')] \n",
      " 59\n"
     ]
    }
   ],
   "source": [
    "def to_datetime(xs):\n",
    "  result = []\n",
    "  format =  \"%Y-%m-%d %H:%M:%S\"\n",
    "  for x in xs:\n",
    "    result.append(pd.to_datetime(x, format = format))\n",
    "  return result\n",
    "\n",
    "\n",
    "failure_start_time = to_datetime([\"2020-04-18 00:00:00\", \"2020-05-29 23:30:00\", \"2020-06-05 10:00:00\", \"2020-07-15 14:30:00\"] )\n",
    "failure_end_time   = to_datetime([\"2020-04-18 23:59:00\", \"2020-05-30 06:00:00\", \"2020-06-07 14:30:00\", \"2020-07-15 19:00:00\"] )\n",
    "\n",
    "print(failure_start_time,\"\\n\", failure_end_time[0].minute)"
   ]
  },
  {
   "cell_type": "code",
   "execution_count": 16,
   "id": "KqHsjSKPyFsT",
   "metadata": {
    "id": "KqHsjSKPyFsT"
   },
   "outputs": [],
   "source": [
    "def in_between(x, start, end):\n",
    "\n",
    "  start_con = x >= start\n",
    "  end_con = x<= end\n",
    "\n",
    "  inbetween_con = start_con and end_con\n",
    "  if inbetween_con:\n",
    "    return 1\n",
    "  else:\n",
    "    return 0"
   ]
  },
  {
   "cell_type": "code",
   "execution_count": 17,
   "id": "oig21csoXP3w",
   "metadata": {
    "colab": {
     "base_uri": "https://localhost:8080/"
    },
    "id": "oig21csoXP3w",
    "outputId": "ddaeae7d-d645-488d-e33d-c13da88cc78e"
   },
   "outputs": [
    {
     "name": "stdout",
     "output_type": "stream",
     "text": [
      " Found 29607 samples representing failure state\n"
     ]
    }
   ],
   "source": [
    "failure_indx = []\n",
    "for i, (start_time, end_time) in enumerate(zip(failure_start_time, failure_end_time)):\n",
    "  mask = labeled_data['timestamp'].apply(in_between, start = start_time, end = end_time)\n",
    "  indx = labeled_data.index[mask == True].tolist()\n",
    "  failure_indx += indx\n",
    "\n",
    "\n",
    "print(f\" Found {len(failure_indx)} samples representing failure state\")"
   ]
  },
  {
   "cell_type": "code",
   "execution_count": 18,
   "id": "b27kdTKUCR_S",
   "metadata": {
    "colab": {
     "base_uri": "https://localhost:8080/"
    },
    "id": "b27kdTKUCR_S",
    "outputId": "f13398b5-d843-4be6-a993-969dc4204fc4"
   },
   "outputs": [
    {
     "name": "stdout",
     "output_type": "stream",
     "text": [
      "0    29838\n",
      "1    29607\n",
      "Name: status, dtype: int64\n",
      "We have 29607 positve samples\n"
     ]
    }
   ],
   "source": [
    "#Set the sample with the timestamp falled between the failure time to 1\n",
    "# labeled_data['status'].iloc[failure_indx] = 1\n",
    "labeled_data.loc[failure_indx, 'status'] = 1\n",
    "print(labeled_data['status'].value_counts())\n",
    "print(f\"We have {labeled_data['status'][labeled_data['status']==1].count()} positve samples\" )"
   ]
  },
  {
   "cell_type": "code",
   "execution_count": 19,
   "id": "TROhLWInqqGr",
   "metadata": {
    "colab": {
     "base_uri": "https://localhost:8080/"
    },
    "id": "TROhLWInqqGr",
    "outputId": "69ab8657-212c-401b-ae32-5722b74dee5d"
   },
   "outputs": [
    {
     "name": "stdout",
     "output_type": "stream",
     "text": [
      "Example of Failure state \n",
      "             timestamp    TP2    TP3     H1  DV_pressure  Reservoirs  \\\n",
      "0 2020-04-18 00:00:01 -0.018  8.248  8.238       -0.024       8.248   \n",
      "1 2020-04-18 00:00:13 -0.018  8.248  8.238       -0.024       8.248   \n",
      "2 2020-04-18 00:00:24 -0.018  8.248  8.238       -0.024       8.248   \n",
      "3 2020-04-18 00:00:36 -0.018  8.248  8.238       -0.024       8.248   \n",
      "4 2020-04-18 00:00:49 -0.018  8.248  8.238       -0.024       8.248   \n",
      "\n",
      "   Oil_temperature  Motor_current  COMP  DV_eletric  Towers  MPG  LPS  \\\n",
      "0            49.45           0.04   1.0         0.0     1.0  1.0  0.0   \n",
      "1            49.45           0.04   1.0         0.0     1.0  1.0  0.0   \n",
      "2            49.45           0.04   1.0         0.0     1.0  1.0  0.0   \n",
      "3            49.45           0.04   0.0         0.0     0.0  0.0  0.0   \n",
      "4            49.45           0.04   1.0         0.0     1.0  1.0  0.0   \n",
      "\n",
      "   Pressure_switch  Oil_level  Caudal_impulses  status  \n",
      "0              1.0        1.0              1.0       1  \n",
      "1              1.0        1.0              1.0       1  \n",
      "2              1.0        1.0              1.0       1  \n",
      "3              0.0        0.0              0.0       1  \n",
      "4              1.0        1.0              1.0       1  \n"
     ]
    }
   ],
   "source": [
    "print(f\"Example of Failure state \\n {labeled_data[labeled_data['status']==1].head()}\")"
   ]
  },
  {
   "cell_type": "markdown",
   "id": "A8iLUYDTpjfI",
   "metadata": {
    "id": "A8iLUYDTpjfI"
   },
   "source": [
    "## splite the dataset"
   ]
  },
  {
   "cell_type": "code",
   "execution_count": 20,
   "id": "sEyrVfNUsy98",
   "metadata": {
    "colab": {
     "base_uri": "https://localhost:8080/"
    },
    "id": "sEyrVfNUsy98",
    "outputId": "b92e948b-2d88-4c4b-b223-f35a89479d8d"
   },
   "outputs": [
    {
     "name": "stdout",
     "output_type": "stream",
     "text": [
      "<class 'pandas.core.frame.DataFrame'>\n",
      "Int64Index: 29607 entries, 0 to 29606\n",
      "Data columns (total 17 columns):\n",
      " #   Column           Non-Null Count  Dtype         \n",
      "---  ------           --------------  -----         \n",
      " 0   timestamp        29607 non-null  datetime64[ns]\n",
      " 1   TP2              29607 non-null  float64       \n",
      " 2   TP3              29607 non-null  float64       \n",
      " 3   H1               29607 non-null  float64       \n",
      " 4   DV_pressure      29607 non-null  float64       \n",
      " 5   Reservoirs       29607 non-null  float64       \n",
      " 6   Oil_temperature  29607 non-null  float64       \n",
      " 7   Motor_current    29607 non-null  float64       \n",
      " 8   COMP             29607 non-null  float64       \n",
      " 9   DV_eletric       29607 non-null  float64       \n",
      " 10  Towers           29607 non-null  float64       \n",
      " 11  MPG              29607 non-null  float64       \n",
      " 12  LPS              29607 non-null  float64       \n",
      " 13  Pressure_switch  29607 non-null  float64       \n",
      " 14  Oil_level        29607 non-null  float64       \n",
      " 15  Caudal_impulses  29607 non-null  float64       \n",
      " 16  status           29607 non-null  int64         \n",
      "dtypes: datetime64[ns](1), float64(15), int64(1)\n",
      "memory usage: 4.1 MB\n",
      "Positive dataset\n",
      " None\n",
      "\n",
      "<class 'pandas.core.frame.DataFrame'>\n",
      "Int64Index: 29838 entries, 29607 to 59444\n",
      "Data columns (total 17 columns):\n",
      " #   Column           Non-Null Count  Dtype         \n",
      "---  ------           --------------  -----         \n",
      " 0   timestamp        29838 non-null  datetime64[ns]\n",
      " 1   TP2              29838 non-null  float64       \n",
      " 2   TP3              29838 non-null  float64       \n",
      " 3   H1               29838 non-null  float64       \n",
      " 4   DV_pressure      29838 non-null  float64       \n",
      " 5   Reservoirs       29838 non-null  float64       \n",
      " 6   Oil_temperature  29838 non-null  float64       \n",
      " 7   Motor_current    29838 non-null  float64       \n",
      " 8   COMP             29838 non-null  float64       \n",
      " 9   DV_eletric       29838 non-null  float64       \n",
      " 10  Towers           29838 non-null  float64       \n",
      " 11  MPG              29838 non-null  float64       \n",
      " 12  LPS              29838 non-null  float64       \n",
      " 13  Pressure_switch  29838 non-null  float64       \n",
      " 14  Oil_level        29838 non-null  float64       \n",
      " 15  Caudal_impulses  29838 non-null  float64       \n",
      " 16  status           29838 non-null  int64         \n",
      "dtypes: datetime64[ns](1), float64(15), int64(1)\n",
      "memory usage: 4.1 MB\n",
      "Negative dataset\n",
      " None\n",
      "\n"
     ]
    }
   ],
   "source": [
    "#Seperate Positive samples and Negative sample\n",
    "pos_data = labeled_data[labeled_data['status'] == 1]\n",
    "neg_data = labeled_data[labeled_data['status'] == 0]\n",
    "\n",
    "#Print out the info of 2 dataset\n",
    "print(f\"Positive dataset\\n {pos_data.info()}\\n\")\n",
    "print(f\"Negative dataset\\n {neg_data.info()}\\n\")"
   ]
  },
  {
   "cell_type": "markdown",
   "id": "U9kT3KI0tbCz",
   "metadata": {
    "id": "U9kT3KI0tbCz"
   },
   "source": [
    "As we can see, we have around 30K postive samples and 1500K negative sample. This indicates highly imbalanced dataset. Thus, we have to subsample the negative class to balance the training data. To achive this, we will randomly sample 30K negative sample from the set of 1500K sample."
   ]
  },
  {
   "cell_type": "code",
   "execution_count": 21,
   "id": "6_vdKBfat9fH",
   "metadata": {
    "colab": {
     "base_uri": "https://localhost:8080/"
    },
    "id": "6_vdKBfat9fH",
    "outputId": "b5b61cdf-5878-48dc-c767-a884f24dbce4"
   },
   "outputs": [
    {
     "name": "stdout",
     "output_type": "stream",
     "text": [
      "<class 'pandas.core.frame.DataFrame'>\n",
      "Int64Index: 29607 entries, 36986 to 54892\n",
      "Data columns (total 17 columns):\n",
      " #   Column           Non-Null Count  Dtype         \n",
      "---  ------           --------------  -----         \n",
      " 0   timestamp        29607 non-null  datetime64[ns]\n",
      " 1   TP2              29607 non-null  float64       \n",
      " 2   TP3              29607 non-null  float64       \n",
      " 3   H1               29607 non-null  float64       \n",
      " 4   DV_pressure      29607 non-null  float64       \n",
      " 5   Reservoirs       29607 non-null  float64       \n",
      " 6   Oil_temperature  29607 non-null  float64       \n",
      " 7   Motor_current    29607 non-null  float64       \n",
      " 8   COMP             29607 non-null  float64       \n",
      " 9   DV_eletric       29607 non-null  float64       \n",
      " 10  Towers           29607 non-null  float64       \n",
      " 11  MPG              29607 non-null  float64       \n",
      " 12  LPS              29607 non-null  float64       \n",
      " 13  Pressure_switch  29607 non-null  float64       \n",
      " 14  Oil_level        29607 non-null  float64       \n",
      " 15  Caudal_impulses  29607 non-null  float64       \n",
      " 16  status           29607 non-null  int64         \n",
      "dtypes: datetime64[ns](1), float64(15), int64(1)\n",
      "memory usage: 4.1 MB\n",
      "Negative dataset after subsampling None\n"
     ]
    }
   ],
   "source": [
    "n_positives = int(pos_data['status'].count())\n",
    "sub_neg_data = neg_data.sample(n_positives, random_state = 42)\n",
    "print(f\"Negative dataset after subsampling {sub_neg_data.info()}\")"
   ]
  },
  {
   "cell_type": "markdown",
   "id": "yQq9o7quu_ei",
   "metadata": {
    "id": "yQq9o7quu_ei"
   },
   "source": [
    "Now, we merge the postive set and negative set into one"
   ]
  },
  {
   "cell_type": "code",
   "execution_count": 22,
   "id": "_Nmrpj12vIDK",
   "metadata": {
    "colab": {
     "base_uri": "https://localhost:8080/"
    },
    "id": "_Nmrpj12vIDK",
    "outputId": "b6e0ec55-adc9-4a2b-e6f8-0a62297361d9"
   },
   "outputs": [
    {
     "name": "stdout",
     "output_type": "stream",
     "text": [
      "Merged dataset\n",
      "\n",
      "<class 'pandas.core.frame.DataFrame'>\n",
      "Int64Index: 59214 entries, 0 to 54892\n",
      "Data columns (total 17 columns):\n",
      " #   Column           Non-Null Count  Dtype         \n",
      "---  ------           --------------  -----         \n",
      " 0   timestamp        59214 non-null  datetime64[ns]\n",
      " 1   TP2              59214 non-null  float64       \n",
      " 2   TP3              59214 non-null  float64       \n",
      " 3   H1               59214 non-null  float64       \n",
      " 4   DV_pressure      59214 non-null  float64       \n",
      " 5   Reservoirs       59214 non-null  float64       \n",
      " 6   Oil_temperature  59214 non-null  float64       \n",
      " 7   Motor_current    59214 non-null  float64       \n",
      " 8   COMP             59214 non-null  float64       \n",
      " 9   DV_eletric       59214 non-null  float64       \n",
      " 10  Towers           59214 non-null  float64       \n",
      " 11  MPG              59214 non-null  float64       \n",
      " 12  LPS              59214 non-null  float64       \n",
      " 13  Pressure_switch  59214 non-null  float64       \n",
      " 14  Oil_level        59214 non-null  float64       \n",
      " 15  Caudal_impulses  59214 non-null  float64       \n",
      " 16  status           59214 non-null  int64         \n",
      "dtypes: datetime64[ns](1), float64(15), int64(1)\n",
      "memory usage: 8.1 MB\n"
     ]
    }
   ],
   "source": [
    "merged_data = pd.concat([pos_data, sub_neg_data], axis = 0)\n",
    "print(f\"Merged dataset\\n\")\n",
    "merged_data.info()"
   ]
  },
  {
   "cell_type": "markdown",
   "id": "18c5a153-7fb2-4b7d-86d9-a41322313752",
   "metadata": {
    "id": "18c5a153-7fb2-4b7d-86d9-a41322313752"
   },
   "source": [
    "## Valeurs abirrantes"
   ]
  },
  {
   "cell_type": "code",
   "execution_count": 23,
   "id": "7a6abdcd",
   "metadata": {
    "colab": {
     "base_uri": "https://localhost:8080/"
    },
    "id": "7a6abdcd",
    "outputId": "9c9de07f-dfdf-4983-f929-a454d9d21260"
   },
   "outputs": [
    {
     "name": "stdout",
     "output_type": "stream",
     "text": [
      "\n",
      "Dropping outliers ...\n",
      "\n",
      "Found 1 oulier(s) for feature Reservoirs\n",
      "Droping 1 from column Reservoirs\n",
      "59213 samples left\n",
      "\n",
      "Found 394 oulier(s) for feature LPS\n",
      "Skipping .. data has Q1 equals to Q3\n",
      "59213 rows left\n",
      "\n",
      "Found 400 oulier(s) for feature Pressure_switch\n",
      "Skipping .. data has Q1 equals to Q3\n",
      "59213 rows left\n",
      "\n",
      "Found 2870 oulier(s) for feature Oil_level\n",
      "Skipping .. data has Q1 equals to Q3\n",
      "59213 rows left\n",
      "\n",
      "Found 1930 oulier(s) for feature Caudal_impulses\n",
      "Skipping .. data has Q1 equals to Q3\n",
      "59213 rows left\n",
      "\n",
      "Found 394 oulier(s) for feature LPS\n",
      "Skipping .. data has Q1 equals to Q3\n",
      "59213 rows left\n",
      "\n",
      "Found 400 oulier(s) for feature Pressure_switch\n",
      "Skipping .. data has Q1 equals to Q3\n",
      "59213 rows left\n",
      "\n",
      "Found 2870 oulier(s) for feature Oil_level\n",
      "Skipping .. data has Q1 equals to Q3\n",
      "59213 rows left\n",
      "\n",
      "Found 1930 oulier(s) for feature Caudal_impulses\n",
      "Skipping .. data has Q1 equals to Q3\n",
      "59213 rows left\n",
      "\n",
      "Found 394 oulier(s) for feature LPS\n",
      "Skipping .. data has Q1 equals to Q3\n",
      "59213 rows left\n",
      "\n",
      "Found 400 oulier(s) for feature Pressure_switch\n",
      "Skipping .. data has Q1 equals to Q3\n",
      "59213 rows left\n",
      "\n",
      "Found 2870 oulier(s) for feature Oil_level\n",
      "Skipping .. data has Q1 equals to Q3\n",
      "59213 rows left\n",
      "\n",
      "Found 1930 oulier(s) for feature Caudal_impulses\n",
      "Skipping .. data has Q1 equals to Q3\n",
      "59213 rows left\n",
      "\n",
      "Found 394 oulier(s) for feature LPS\n",
      "Skipping .. data has Q1 equals to Q3\n",
      "59213 rows left\n",
      "\n",
      "Found 400 oulier(s) for feature Pressure_switch\n",
      "Skipping .. data has Q1 equals to Q3\n",
      "59213 rows left\n",
      "\n",
      "Found 2870 oulier(s) for feature Oil_level\n",
      "Skipping .. data has Q1 equals to Q3\n",
      "59213 rows left\n",
      "\n",
      "Found 1930 oulier(s) for feature Caudal_impulses\n",
      "Skipping .. data has Q1 equals to Q3\n",
      "59213 rows left\n",
      "\n",
      "Found 394 oulier(s) for feature LPS\n",
      "Skipping .. data has Q1 equals to Q3\n",
      "59213 rows left\n",
      "\n",
      "Found 400 oulier(s) for feature Pressure_switch\n",
      "Skipping .. data has Q1 equals to Q3\n",
      "59213 rows left\n",
      "\n",
      "Found 2870 oulier(s) for feature Oil_level\n",
      "Skipping .. data has Q1 equals to Q3\n",
      "59213 rows left\n",
      "\n",
      "Found 1930 oulier(s) for feature Caudal_impulses\n",
      "Skipping .. data has Q1 equals to Q3\n",
      "59213 rows left\n",
      "\n",
      "\n",
      "Dropping Completed ...\n",
      "\n",
      "Found 394 oulier(s) for feature LPS\n",
      "Found 400 oulier(s) for feature Pressure_switch\n",
      "Found 2870 oulier(s) for feature Oil_level\n",
      "Found 1930 oulier(s) for feature Caudal_impulses\n"
     ]
    }
   ],
   "source": [
    "def investigate_outliers(data, c):\n",
    "    q1 = data[c].quantile(0.25)\n",
    "    q3 = data[c].quantile(0.75)\n",
    "    iqr = q3 - q1\n",
    "    ll = q1 - 1.5*iqr\n",
    "    ul = q3 + 1.5*iqr\n",
    "\n",
    "    num_outliers = data[data[c] < ll][c].count()  + data[data[c] > ul][c].count()\n",
    "    if num_outliers>0:\n",
    "        print(f\"Found {num_outliers} oulier(s) for feature {c}\")\n",
    "    return {'col': c, 'n_outliers': num_outliers, 'll': ll, 'ul': ul, 'q1': q1, 'q3':q3}\n",
    "\n",
    "print(\"\\nDropping outliers ...\\n\")\n",
    "clean_data = merged_data.copy()\n",
    "for i in range(5):\n",
    "  for c in clean_data.columns:\n",
    "      if c not in [\"Unnamed: 0\",\"timestamp\"]:\n",
    "          cue = investigate_outliers(clean_data, c)\n",
    "          if cue[\"n_outliers\"] > 0 and (cue[\"q1\"]!= cue[\"q3\"]):\n",
    "              print(f\"Droping {cue['n_outliers']} from column {c}\")\n",
    "              clean_data = clean_data[clean_data[c]> cue[\"ll\"]]\n",
    "              clean_data = clean_data[clean_data[c]< cue[\"ul\"]]\n",
    "              print(f\"{clean_data.shape[0]} samples left\\n\")\n",
    "          elif (cue[\"q1\"]== cue[\"q3\"]):\n",
    "              print(\"Skipping .. data has Q1 equals to Q3\")\n",
    "              print(f\"{clean_data.shape[0]} rows left\\n\")\n",
    "\n",
    "\n",
    "print(\"\\nDropping Completed ...\\n\")\n",
    "#Recheck data\n",
    "for c in clean_data.columns:\n",
    "    if c not in [\"Unnamed: 0\",\"timestamp\",\"COMP\", 'status']:\n",
    "        cue = investigate_outliers(clean_data, c)"
   ]
  },
  {
   "cell_type": "code",
   "execution_count": 24,
   "id": "vq_Xju3HwQU-",
   "metadata": {
    "id": "vq_Xju3HwQU-"
   },
   "outputs": [],
   "source": [
    "#Investigate the columns with the binary values\n",
    "binary_cols = ['LPS', 'Pressure_switch', 'Oil_level', 'Caudal_impulses']\n",
    "#Ensure the the binary data is binary\n",
    "clean_data[binary_cols] = clean_data[binary_cols].apply(np.round)"
   ]
  },
  {
   "cell_type": "markdown",
   "id": "AcoWfkxg3US9",
   "metadata": {
    "id": "AcoWfkxg3US9"
   },
   "source": [
    "## III. Exploratory Data Analysis"
   ]
  },
  {
   "cell_type": "markdown",
   "id": "fiQbhtDt6bAB",
   "metadata": {
    "id": "fiQbhtDt6bAB"
   },
   "source": [
    "### 1) Correlation"
   ]
  },
  {
   "cell_type": "markdown",
   "id": "OA6ITWCb7A8y",
   "metadata": {
    "id": "OA6ITWCb7A8y"
   },
   "source": [
    "Describing the correlation between the features, the values closer to 1 or -1 represent a stronger relation."
   ]
  },
  {
   "cell_type": "code",
   "execution_count": 25,
   "id": "i9T0eAlo6-zg",
   "metadata": {
    "colab": {
     "base_uri": "https://localhost:8080/",
     "height": 606
    },
    "id": "i9T0eAlo6-zg",
    "outputId": "aa9b7264-a06b-4617-88fb-1ac0a52b42e0"
   },
   "outputs": [
    {
     "data": {
      "text/html": [
       "<div>\n",
       "<style scoped>\n",
       "    .dataframe tbody tr th:only-of-type {\n",
       "        vertical-align: middle;\n",
       "    }\n",
       "\n",
       "    .dataframe tbody tr th {\n",
       "        vertical-align: top;\n",
       "    }\n",
       "\n",
       "    .dataframe thead th {\n",
       "        text-align: right;\n",
       "    }\n",
       "</style>\n",
       "<table border=\"1\" class=\"dataframe\">\n",
       "  <thead>\n",
       "    <tr style=\"text-align: right;\">\n",
       "      <th></th>\n",
       "      <th>TP2</th>\n",
       "      <th>TP3</th>\n",
       "      <th>H1</th>\n",
       "      <th>DV_pressure</th>\n",
       "      <th>Reservoirs</th>\n",
       "      <th>Oil_temperature</th>\n",
       "      <th>Motor_current</th>\n",
       "      <th>COMP</th>\n",
       "      <th>DV_eletric</th>\n",
       "      <th>Towers</th>\n",
       "      <th>MPG</th>\n",
       "      <th>LPS</th>\n",
       "      <th>Pressure_switch</th>\n",
       "      <th>Oil_level</th>\n",
       "      <th>Caudal_impulses</th>\n",
       "      <th>status</th>\n",
       "    </tr>\n",
       "  </thead>\n",
       "  <tbody>\n",
       "    <tr>\n",
       "      <th>TP2</th>\n",
       "      <td>1.00</td>\n",
       "      <td>-0.42</td>\n",
       "      <td>-0.98</td>\n",
       "      <td>0.81</td>\n",
       "      <td>-0.42</td>\n",
       "      <td>0.74</td>\n",
       "      <td>0.87</td>\n",
       "      <td>-0.98</td>\n",
       "      <td>0.98</td>\n",
       "      <td>-0.52</td>\n",
       "      <td>-0.97</td>\n",
       "      <td>0.06</td>\n",
       "      <td>0.00</td>\n",
       "      <td>0.19</td>\n",
       "      <td>0.14</td>\n",
       "      <td>0.83</td>\n",
       "    </tr>\n",
       "    <tr>\n",
       "      <th>TP3</th>\n",
       "      <td>-0.42</td>\n",
       "      <td>1.00</td>\n",
       "      <td>0.54</td>\n",
       "      <td>-0.55</td>\n",
       "      <td>1.00</td>\n",
       "      <td>-0.28</td>\n",
       "      <td>-0.17</td>\n",
       "      <td>0.49</td>\n",
       "      <td>-0.48</td>\n",
       "      <td>0.27</td>\n",
       "      <td>0.48</td>\n",
       "      <td>-0.18</td>\n",
       "      <td>0.01</td>\n",
       "      <td>-0.14</td>\n",
       "      <td>-0.13</td>\n",
       "      <td>-0.55</td>\n",
       "    </tr>\n",
       "    <tr>\n",
       "      <th>H1</th>\n",
       "      <td>-0.98</td>\n",
       "      <td>0.54</td>\n",
       "      <td>1.00</td>\n",
       "      <td>-0.83</td>\n",
       "      <td>0.54</td>\n",
       "      <td>-0.73</td>\n",
       "      <td>-0.84</td>\n",
       "      <td>0.99</td>\n",
       "      <td>-0.99</td>\n",
       "      <td>0.54</td>\n",
       "      <td>0.99</td>\n",
       "      <td>-0.07</td>\n",
       "      <td>0.00</td>\n",
       "      <td>-0.20</td>\n",
       "      <td>-0.15</td>\n",
       "      <td>-0.86</td>\n",
       "    </tr>\n",
       "    <tr>\n",
       "      <th>DV_pressure</th>\n",
       "      <td>0.81</td>\n",
       "      <td>-0.55</td>\n",
       "      <td>-0.83</td>\n",
       "      <td>1.00</td>\n",
       "      <td>-0.55</td>\n",
       "      <td>0.73</td>\n",
       "      <td>0.72</td>\n",
       "      <td>-0.83</td>\n",
       "      <td>0.83</td>\n",
       "      <td>-0.45</td>\n",
       "      <td>-0.83</td>\n",
       "      <td>-0.05</td>\n",
       "      <td>0.02</td>\n",
       "      <td>0.21</td>\n",
       "      <td>0.17</td>\n",
       "      <td>0.92</td>\n",
       "    </tr>\n",
       "    <tr>\n",
       "      <th>Reservoirs</th>\n",
       "      <td>-0.42</td>\n",
       "      <td>1.00</td>\n",
       "      <td>0.54</td>\n",
       "      <td>-0.55</td>\n",
       "      <td>1.00</td>\n",
       "      <td>-0.28</td>\n",
       "      <td>-0.17</td>\n",
       "      <td>0.49</td>\n",
       "      <td>-0.48</td>\n",
       "      <td>0.27</td>\n",
       "      <td>0.48</td>\n",
       "      <td>-0.18</td>\n",
       "      <td>0.01</td>\n",
       "      <td>-0.14</td>\n",
       "      <td>-0.13</td>\n",
       "      <td>-0.55</td>\n",
       "    </tr>\n",
       "    <tr>\n",
       "      <th>Oil_temperature</th>\n",
       "      <td>0.74</td>\n",
       "      <td>-0.28</td>\n",
       "      <td>-0.73</td>\n",
       "      <td>0.73</td>\n",
       "      <td>-0.28</td>\n",
       "      <td>1.00</td>\n",
       "      <td>0.80</td>\n",
       "      <td>-0.75</td>\n",
       "      <td>0.76</td>\n",
       "      <td>-0.41</td>\n",
       "      <td>-0.75</td>\n",
       "      <td>0.10</td>\n",
       "      <td>0.02</td>\n",
       "      <td>0.10</td>\n",
       "      <td>0.11</td>\n",
       "      <td>0.81</td>\n",
       "    </tr>\n",
       "    <tr>\n",
       "      <th>Motor_current</th>\n",
       "      <td>0.87</td>\n",
       "      <td>-0.17</td>\n",
       "      <td>-0.84</td>\n",
       "      <td>0.72</td>\n",
       "      <td>-0.17</td>\n",
       "      <td>0.80</td>\n",
       "      <td>1.00</td>\n",
       "      <td>-0.87</td>\n",
       "      <td>0.87</td>\n",
       "      <td>-0.47</td>\n",
       "      <td>-0.87</td>\n",
       "      <td>0.06</td>\n",
       "      <td>0.00</td>\n",
       "      <td>0.14</td>\n",
       "      <td>0.10</td>\n",
       "      <td>0.74</td>\n",
       "    </tr>\n",
       "    <tr>\n",
       "      <th>COMP</th>\n",
       "      <td>-0.98</td>\n",
       "      <td>0.49</td>\n",
       "      <td>0.99</td>\n",
       "      <td>-0.83</td>\n",
       "      <td>0.49</td>\n",
       "      <td>-0.75</td>\n",
       "      <td>-0.87</td>\n",
       "      <td>1.00</td>\n",
       "      <td>-0.99</td>\n",
       "      <td>0.55</td>\n",
       "      <td>1.00</td>\n",
       "      <td>-0.07</td>\n",
       "      <td>0.06</td>\n",
       "      <td>-0.18</td>\n",
       "      <td>-0.12</td>\n",
       "      <td>-0.86</td>\n",
       "    </tr>\n",
       "    <tr>\n",
       "      <th>DV_eletric</th>\n",
       "      <td>0.98</td>\n",
       "      <td>-0.48</td>\n",
       "      <td>-0.99</td>\n",
       "      <td>0.83</td>\n",
       "      <td>-0.48</td>\n",
       "      <td>0.76</td>\n",
       "      <td>0.87</td>\n",
       "      <td>-0.99</td>\n",
       "      <td>1.00</td>\n",
       "      <td>-0.53</td>\n",
       "      <td>-0.99</td>\n",
       "      <td>0.07</td>\n",
       "      <td>0.03</td>\n",
       "      <td>0.19</td>\n",
       "      <td>0.14</td>\n",
       "      <td>0.86</td>\n",
       "    </tr>\n",
       "    <tr>\n",
       "      <th>Towers</th>\n",
       "      <td>-0.52</td>\n",
       "      <td>0.27</td>\n",
       "      <td>0.54</td>\n",
       "      <td>-0.45</td>\n",
       "      <td>0.27</td>\n",
       "      <td>-0.41</td>\n",
       "      <td>-0.47</td>\n",
       "      <td>0.55</td>\n",
       "      <td>-0.53</td>\n",
       "      <td>1.00</td>\n",
       "      <td>0.54</td>\n",
       "      <td>-0.04</td>\n",
       "      <td>0.09</td>\n",
       "      <td>-0.07</td>\n",
       "      <td>-0.04</td>\n",
       "      <td>-0.47</td>\n",
       "    </tr>\n",
       "    <tr>\n",
       "      <th>MPG</th>\n",
       "      <td>-0.97</td>\n",
       "      <td>0.48</td>\n",
       "      <td>0.99</td>\n",
       "      <td>-0.83</td>\n",
       "      <td>0.48</td>\n",
       "      <td>-0.75</td>\n",
       "      <td>-0.87</td>\n",
       "      <td>1.00</td>\n",
       "      <td>-0.99</td>\n",
       "      <td>0.54</td>\n",
       "      <td>1.00</td>\n",
       "      <td>-0.07</td>\n",
       "      <td>0.06</td>\n",
       "      <td>-0.15</td>\n",
       "      <td>-0.10</td>\n",
       "      <td>-0.86</td>\n",
       "    </tr>\n",
       "    <tr>\n",
       "      <th>LPS</th>\n",
       "      <td>0.06</td>\n",
       "      <td>-0.18</td>\n",
       "      <td>-0.07</td>\n",
       "      <td>-0.05</td>\n",
       "      <td>-0.18</td>\n",
       "      <td>0.10</td>\n",
       "      <td>0.06</td>\n",
       "      <td>-0.07</td>\n",
       "      <td>0.07</td>\n",
       "      <td>-0.04</td>\n",
       "      <td>-0.07</td>\n",
       "      <td>1.00</td>\n",
       "      <td>0.01</td>\n",
       "      <td>0.02</td>\n",
       "      <td>0.02</td>\n",
       "      <td>0.08</td>\n",
       "    </tr>\n",
       "    <tr>\n",
       "      <th>Pressure_switch</th>\n",
       "      <td>0.00</td>\n",
       "      <td>0.01</td>\n",
       "      <td>0.00</td>\n",
       "      <td>0.02</td>\n",
       "      <td>0.01</td>\n",
       "      <td>0.02</td>\n",
       "      <td>0.00</td>\n",
       "      <td>0.06</td>\n",
       "      <td>0.03</td>\n",
       "      <td>0.09</td>\n",
       "      <td>0.06</td>\n",
       "      <td>0.01</td>\n",
       "      <td>1.00</td>\n",
       "      <td>0.20</td>\n",
       "      <td>0.26</td>\n",
       "      <td>0.02</td>\n",
       "    </tr>\n",
       "    <tr>\n",
       "      <th>Oil_level</th>\n",
       "      <td>0.19</td>\n",
       "      <td>-0.14</td>\n",
       "      <td>-0.20</td>\n",
       "      <td>0.21</td>\n",
       "      <td>-0.14</td>\n",
       "      <td>0.10</td>\n",
       "      <td>0.14</td>\n",
       "      <td>-0.18</td>\n",
       "      <td>0.19</td>\n",
       "      <td>-0.07</td>\n",
       "      <td>-0.15</td>\n",
       "      <td>0.02</td>\n",
       "      <td>0.20</td>\n",
       "      <td>1.00</td>\n",
       "      <td>0.12</td>\n",
       "      <td>0.22</td>\n",
       "    </tr>\n",
       "    <tr>\n",
       "      <th>Caudal_impulses</th>\n",
       "      <td>0.14</td>\n",
       "      <td>-0.13</td>\n",
       "      <td>-0.15</td>\n",
       "      <td>0.17</td>\n",
       "      <td>-0.13</td>\n",
       "      <td>0.11</td>\n",
       "      <td>0.10</td>\n",
       "      <td>-0.12</td>\n",
       "      <td>0.14</td>\n",
       "      <td>-0.04</td>\n",
       "      <td>-0.10</td>\n",
       "      <td>0.02</td>\n",
       "      <td>0.26</td>\n",
       "      <td>0.12</td>\n",
       "      <td>1.00</td>\n",
       "      <td>0.18</td>\n",
       "    </tr>\n",
       "    <tr>\n",
       "      <th>status</th>\n",
       "      <td>0.83</td>\n",
       "      <td>-0.55</td>\n",
       "      <td>-0.86</td>\n",
       "      <td>0.92</td>\n",
       "      <td>-0.55</td>\n",
       "      <td>0.81</td>\n",
       "      <td>0.74</td>\n",
       "      <td>-0.86</td>\n",
       "      <td>0.86</td>\n",
       "      <td>-0.47</td>\n",
       "      <td>-0.86</td>\n",
       "      <td>0.08</td>\n",
       "      <td>0.02</td>\n",
       "      <td>0.22</td>\n",
       "      <td>0.18</td>\n",
       "      <td>1.00</td>\n",
       "    </tr>\n",
       "  </tbody>\n",
       "</table>\n",
       "</div>"
      ],
      "text/plain": [
       "                  TP2   TP3    H1  DV_pressure  Reservoirs  Oil_temperature  \\\n",
       "TP2              1.00 -0.42 -0.98         0.81       -0.42             0.74   \n",
       "TP3             -0.42  1.00  0.54        -0.55        1.00            -0.28   \n",
       "H1              -0.98  0.54  1.00        -0.83        0.54            -0.73   \n",
       "DV_pressure      0.81 -0.55 -0.83         1.00       -0.55             0.73   \n",
       "Reservoirs      -0.42  1.00  0.54        -0.55        1.00            -0.28   \n",
       "Oil_temperature  0.74 -0.28 -0.73         0.73       -0.28             1.00   \n",
       "Motor_current    0.87 -0.17 -0.84         0.72       -0.17             0.80   \n",
       "COMP            -0.98  0.49  0.99        -0.83        0.49            -0.75   \n",
       "DV_eletric       0.98 -0.48 -0.99         0.83       -0.48             0.76   \n",
       "Towers          -0.52  0.27  0.54        -0.45        0.27            -0.41   \n",
       "MPG             -0.97  0.48  0.99        -0.83        0.48            -0.75   \n",
       "LPS              0.06 -0.18 -0.07        -0.05       -0.18             0.10   \n",
       "Pressure_switch  0.00  0.01  0.00         0.02        0.01             0.02   \n",
       "Oil_level        0.19 -0.14 -0.20         0.21       -0.14             0.10   \n",
       "Caudal_impulses  0.14 -0.13 -0.15         0.17       -0.13             0.11   \n",
       "status           0.83 -0.55 -0.86         0.92       -0.55             0.81   \n",
       "\n",
       "                 Motor_current  COMP  DV_eletric  Towers   MPG   LPS  \\\n",
       "TP2                       0.87 -0.98        0.98   -0.52 -0.97  0.06   \n",
       "TP3                      -0.17  0.49       -0.48    0.27  0.48 -0.18   \n",
       "H1                       -0.84  0.99       -0.99    0.54  0.99 -0.07   \n",
       "DV_pressure               0.72 -0.83        0.83   -0.45 -0.83 -0.05   \n",
       "Reservoirs               -0.17  0.49       -0.48    0.27  0.48 -0.18   \n",
       "Oil_temperature           0.80 -0.75        0.76   -0.41 -0.75  0.10   \n",
       "Motor_current             1.00 -0.87        0.87   -0.47 -0.87  0.06   \n",
       "COMP                     -0.87  1.00       -0.99    0.55  1.00 -0.07   \n",
       "DV_eletric                0.87 -0.99        1.00   -0.53 -0.99  0.07   \n",
       "Towers                   -0.47  0.55       -0.53    1.00  0.54 -0.04   \n",
       "MPG                      -0.87  1.00       -0.99    0.54  1.00 -0.07   \n",
       "LPS                       0.06 -0.07        0.07   -0.04 -0.07  1.00   \n",
       "Pressure_switch           0.00  0.06        0.03    0.09  0.06  0.01   \n",
       "Oil_level                 0.14 -0.18        0.19   -0.07 -0.15  0.02   \n",
       "Caudal_impulses           0.10 -0.12        0.14   -0.04 -0.10  0.02   \n",
       "status                    0.74 -0.86        0.86   -0.47 -0.86  0.08   \n",
       "\n",
       "                 Pressure_switch  Oil_level  Caudal_impulses  status  \n",
       "TP2                         0.00       0.19             0.14    0.83  \n",
       "TP3                         0.01      -0.14            -0.13   -0.55  \n",
       "H1                          0.00      -0.20            -0.15   -0.86  \n",
       "DV_pressure                 0.02       0.21             0.17    0.92  \n",
       "Reservoirs                  0.01      -0.14            -0.13   -0.55  \n",
       "Oil_temperature             0.02       0.10             0.11    0.81  \n",
       "Motor_current               0.00       0.14             0.10    0.74  \n",
       "COMP                        0.06      -0.18            -0.12   -0.86  \n",
       "DV_eletric                  0.03       0.19             0.14    0.86  \n",
       "Towers                      0.09      -0.07            -0.04   -0.47  \n",
       "MPG                         0.06      -0.15            -0.10   -0.86  \n",
       "LPS                         0.01       0.02             0.02    0.08  \n",
       "Pressure_switch             1.00       0.20             0.26    0.02  \n",
       "Oil_level                   0.20       1.00             0.12    0.22  \n",
       "Caudal_impulses             0.26       0.12             1.00    0.18  \n",
       "status                      0.02       0.22             0.18    1.00  "
      ]
     },
     "execution_count": 25,
     "metadata": {},
     "output_type": "execute_result"
    }
   ],
   "source": [
    "clean_data.corr().round(2)"
   ]
  },
  {
   "cell_type": "markdown",
   "id": "4AC8dXfm7IhS",
   "metadata": {
    "id": "4AC8dXfm7IhS"
   },
   "source": [
    "We can see that our target variable \"status\" has high correlation with TP2, H1, DV_pressure, Oil_temparature, Motor_current, COMP, DV_electric and MPG.  "
   ]
  },
  {
   "cell_type": "markdown",
   "id": "2qVh_sbv6fm0",
   "metadata": {
    "id": "2qVh_sbv6fm0"
   },
   "source": [
    "## Correlation"
   ]
  },
  {
   "cell_type": "markdown",
   "id": "f2PO54CY7nwo",
   "metadata": {
    "id": "f2PO54CY7nwo"
   },
   "source": [
    "Below shows a Heat map,which can be used to analyse trends, from the below heat map you can see the trends in correlation of data."
   ]
  },
  {
   "cell_type": "code",
   "execution_count": 26,
   "id": "aQrZeZUl7rBm",
   "metadata": {
    "colab": {
     "base_uri": "https://localhost:8080/",
     "height": 610
    },
    "id": "aQrZeZUl7rBm",
    "outputId": "65c08aac-44e7-414c-aebc-5db06f84b7f6"
   },
   "outputs": [
    {
     "data": {
      "text/plain": [
       "<AxesSubplot:>"
      ]
     },
     "execution_count": 26,
     "metadata": {},
     "output_type": "execute_result"
    },
    {
     "data": {
      "image/png": "[encoded data removed]",
      "text/plain": [
       "<Figure size 432x288 with 2 Axes>"
      ]
     },
     "metadata": {
      "needs_background": "light"
     },
     "output_type": "display_data"
    }
   ],
   "source": [
    "sns.heatmap(clean_data.corr(),annot=False )"
   ]
  },
  {
   "cell_type": "code",
   "execution_count": 27,
   "id": "hO6oX3xs8crF",
   "metadata": {
    "colab": {
     "base_uri": "https://localhost:8080/",
     "height": 82
    },
    "id": "hO6oX3xs8crF",
    "outputId": "890a7941-e6f0-4623-8d7f-61c8ab593db7"
   },
   "outputs": [
    {
     "data": {
      "text/plain": [
       "<seaborn.axisgrid.PairGrid at 0x20acc1c2ca0>"
      ]
     },
     "execution_count": 27,
     "metadata": {},
     "output_type": "execute_result"
    },
    {
     "data": {
      "image/png": "[encoded data removed]",
      "text/plain": [
       "<Figure size 2880x180 with 17 Axes>"
      ]
     },
     "metadata": {
      "needs_background": "light"
     },
     "output_type": "display_data"
    }
   ],
   "source": [
    "sns.pairplot(clean_data,  y_vars = ['status'] , plot_kws=  {'alpha' : 0.1})"
   ]
  },
  {
   "cell_type": "markdown",
   "id": "9-5BlC1J-hyP",
   "metadata": {
    "id": "9-5BlC1J-hyP"
   },
   "source": [
    "Drawing box plot to find outliers, I plot it on scale data so it is easier to visualize different features' range.\n",
    "As we can see our preprocessing function work perfectly that leaves no outliers\n"
   ]
  },
  {
   "cell_type": "code",
   "execution_count": 28,
   "id": "4cbe88db",
   "metadata": {},
   "outputs": [],
   "source": [
    "clean_data.to_csv('RailGuadrs_Clean_Data.csv')\n",
    "np.savez(\"RailGuadrs_Clean_Data.npz\", clean_data.to_numpy())"
   ]
  },
  {
   "cell_type": "markdown",
   "id": "a5967a34",
   "metadata": {},
   "source": [
    "# Models\n"
   ]
  },
  {
   "cell_type": "markdown",
   "id": "345dacd5",
   "metadata": {},
   "source": [
    "## LinearRegression"
   ]
  },
  {
   "cell_type": "code",
   "execution_count": 29,
   "id": "b3b380bd",
   "metadata": {},
   "outputs": [
    {
     "data": {
      "text/html": [
       "<div>\n",
       "<style scoped>\n",
       "    .dataframe tbody tr th:only-of-type {\n",
       "        vertical-align: middle;\n",
       "    }\n",
       "\n",
       "    .dataframe tbody tr th {\n",
       "        vertical-align: top;\n",
       "    }\n",
       "\n",
       "    .dataframe thead th {\n",
       "        text-align: right;\n",
       "    }\n",
       "</style>\n",
       "<table border=\"1\" class=\"dataframe\">\n",
       "  <thead>\n",
       "    <tr style=\"text-align: right;\">\n",
       "      <th></th>\n",
       "      <th>TP2</th>\n",
       "      <th>TP3</th>\n",
       "      <th>H1</th>\n",
       "      <th>DV_pressure</th>\n",
       "      <th>Reservoirs</th>\n",
       "      <th>Oil_temperature</th>\n",
       "      <th>Motor_current</th>\n",
       "      <th>COMP</th>\n",
       "      <th>DV_eletric</th>\n",
       "      <th>Towers</th>\n",
       "      <th>MPG</th>\n",
       "      <th>LPS</th>\n",
       "      <th>Pressure_switch</th>\n",
       "      <th>Oil_level</th>\n",
       "      <th>Caudal_impulses</th>\n",
       "    </tr>\n",
       "  </thead>\n",
       "  <tbody>\n",
       "    <tr>\n",
       "      <th>0</th>\n",
       "      <td>-0.018</td>\n",
       "      <td>8.248</td>\n",
       "      <td>8.238</td>\n",
       "      <td>-0.024</td>\n",
       "      <td>8.248</td>\n",
       "      <td>49.450</td>\n",
       "      <td>0.0400</td>\n",
       "      <td>1.0</td>\n",
       "      <td>0.0</td>\n",
       "      <td>1.0</td>\n",
       "      <td>1.0</td>\n",
       "      <td>0.0</td>\n",
       "      <td>1.0</td>\n",
       "      <td>1.0</td>\n",
       "      <td>1.0</td>\n",
       "    </tr>\n",
       "    <tr>\n",
       "      <th>1</th>\n",
       "      <td>-0.018</td>\n",
       "      <td>8.248</td>\n",
       "      <td>8.238</td>\n",
       "      <td>-0.024</td>\n",
       "      <td>8.248</td>\n",
       "      <td>49.450</td>\n",
       "      <td>0.0400</td>\n",
       "      <td>1.0</td>\n",
       "      <td>0.0</td>\n",
       "      <td>1.0</td>\n",
       "      <td>1.0</td>\n",
       "      <td>0.0</td>\n",
       "      <td>1.0</td>\n",
       "      <td>1.0</td>\n",
       "      <td>1.0</td>\n",
       "    </tr>\n",
       "    <tr>\n",
       "      <th>2</th>\n",
       "      <td>-0.018</td>\n",
       "      <td>8.248</td>\n",
       "      <td>8.238</td>\n",
       "      <td>-0.024</td>\n",
       "      <td>8.248</td>\n",
       "      <td>49.450</td>\n",
       "      <td>0.0400</td>\n",
       "      <td>1.0</td>\n",
       "      <td>0.0</td>\n",
       "      <td>1.0</td>\n",
       "      <td>1.0</td>\n",
       "      <td>0.0</td>\n",
       "      <td>1.0</td>\n",
       "      <td>1.0</td>\n",
       "      <td>1.0</td>\n",
       "    </tr>\n",
       "    <tr>\n",
       "      <th>3</th>\n",
       "      <td>-0.018</td>\n",
       "      <td>8.248</td>\n",
       "      <td>8.238</td>\n",
       "      <td>-0.024</td>\n",
       "      <td>8.248</td>\n",
       "      <td>49.450</td>\n",
       "      <td>0.0400</td>\n",
       "      <td>0.0</td>\n",
       "      <td>0.0</td>\n",
       "      <td>0.0</td>\n",
       "      <td>0.0</td>\n",
       "      <td>0.0</td>\n",
       "      <td>0.0</td>\n",
       "      <td>0.0</td>\n",
       "      <td>0.0</td>\n",
       "    </tr>\n",
       "    <tr>\n",
       "      <th>4</th>\n",
       "      <td>-0.018</td>\n",
       "      <td>8.248</td>\n",
       "      <td>8.238</td>\n",
       "      <td>-0.024</td>\n",
       "      <td>8.248</td>\n",
       "      <td>49.450</td>\n",
       "      <td>0.0400</td>\n",
       "      <td>1.0</td>\n",
       "      <td>0.0</td>\n",
       "      <td>1.0</td>\n",
       "      <td>1.0</td>\n",
       "      <td>0.0</td>\n",
       "      <td>1.0</td>\n",
       "      <td>1.0</td>\n",
       "      <td>1.0</td>\n",
       "    </tr>\n",
       "    <tr>\n",
       "      <th>...</th>\n",
       "      <td>...</td>\n",
       "      <td>...</td>\n",
       "      <td>...</td>\n",
       "      <td>...</td>\n",
       "      <td>...</td>\n",
       "      <td>...</td>\n",
       "      <td>...</td>\n",
       "      <td>...</td>\n",
       "      <td>...</td>\n",
       "      <td>...</td>\n",
       "      <td>...</td>\n",
       "      <td>...</td>\n",
       "      <td>...</td>\n",
       "      <td>...</td>\n",
       "      <td>...</td>\n",
       "    </tr>\n",
       "    <tr>\n",
       "      <th>59208</th>\n",
       "      <td>9.362</td>\n",
       "      <td>8.940</td>\n",
       "      <td>-0.014</td>\n",
       "      <td>-0.018</td>\n",
       "      <td>8.938</td>\n",
       "      <td>64.000</td>\n",
       "      <td>6.0050</td>\n",
       "      <td>0.0</td>\n",
       "      <td>1.0</td>\n",
       "      <td>1.0</td>\n",
       "      <td>0.0</td>\n",
       "      <td>0.0</td>\n",
       "      <td>1.0</td>\n",
       "      <td>1.0</td>\n",
       "      <td>1.0</td>\n",
       "    </tr>\n",
       "    <tr>\n",
       "      <th>59209</th>\n",
       "      <td>-0.012</td>\n",
       "      <td>9.408</td>\n",
       "      <td>9.394</td>\n",
       "      <td>-0.022</td>\n",
       "      <td>9.410</td>\n",
       "      <td>56.525</td>\n",
       "      <td>0.0400</td>\n",
       "      <td>1.0</td>\n",
       "      <td>0.0</td>\n",
       "      <td>1.0</td>\n",
       "      <td>1.0</td>\n",
       "      <td>0.0</td>\n",
       "      <td>1.0</td>\n",
       "      <td>1.0</td>\n",
       "      <td>1.0</td>\n",
       "    </tr>\n",
       "    <tr>\n",
       "      <th>59210</th>\n",
       "      <td>-0.014</td>\n",
       "      <td>8.848</td>\n",
       "      <td>8.834</td>\n",
       "      <td>-0.024</td>\n",
       "      <td>8.846</td>\n",
       "      <td>58.575</td>\n",
       "      <td>0.0400</td>\n",
       "      <td>1.0</td>\n",
       "      <td>0.0</td>\n",
       "      <td>1.0</td>\n",
       "      <td>1.0</td>\n",
       "      <td>0.0</td>\n",
       "      <td>1.0</td>\n",
       "      <td>1.0</td>\n",
       "      <td>1.0</td>\n",
       "    </tr>\n",
       "    <tr>\n",
       "      <th>59211</th>\n",
       "      <td>-0.014</td>\n",
       "      <td>8.182</td>\n",
       "      <td>8.166</td>\n",
       "      <td>-0.018</td>\n",
       "      <td>8.182</td>\n",
       "      <td>55.900</td>\n",
       "      <td>0.0350</td>\n",
       "      <td>1.0</td>\n",
       "      <td>0.0</td>\n",
       "      <td>1.0</td>\n",
       "      <td>1.0</td>\n",
       "      <td>0.0</td>\n",
       "      <td>1.0</td>\n",
       "      <td>1.0</td>\n",
       "      <td>1.0</td>\n",
       "    </tr>\n",
       "    <tr>\n",
       "      <th>59212</th>\n",
       "      <td>-0.010</td>\n",
       "      <td>9.714</td>\n",
       "      <td>9.704</td>\n",
       "      <td>-0.018</td>\n",
       "      <td>9.712</td>\n",
       "      <td>68.725</td>\n",
       "      <td>3.7375</td>\n",
       "      <td>1.0</td>\n",
       "      <td>0.0</td>\n",
       "      <td>1.0</td>\n",
       "      <td>1.0</td>\n",
       "      <td>0.0</td>\n",
       "      <td>1.0</td>\n",
       "      <td>0.0</td>\n",
       "      <td>1.0</td>\n",
       "    </tr>\n",
       "  </tbody>\n",
       "</table>\n",
       "<p>59213 rows × 15 columns</p>\n",
       "</div>"
      ],
      "text/plain": [
       "         TP2    TP3     H1  DV_pressure  Reservoirs  Oil_temperature  \\\n",
       "0     -0.018  8.248  8.238       -0.024       8.248           49.450   \n",
       "1     -0.018  8.248  8.238       -0.024       8.248           49.450   \n",
       "2     -0.018  8.248  8.238       -0.024       8.248           49.450   \n",
       "3     -0.018  8.248  8.238       -0.024       8.248           49.450   \n",
       "4     -0.018  8.248  8.238       -0.024       8.248           49.450   \n",
       "...      ...    ...    ...          ...         ...              ...   \n",
       "59208  9.362  8.940 -0.014       -0.018       8.938           64.000   \n",
       "59209 -0.012  9.408  9.394       -0.022       9.410           56.525   \n",
       "59210 -0.014  8.848  8.834       -0.024       8.846           58.575   \n",
       "59211 -0.014  8.182  8.166       -0.018       8.182           55.900   \n",
       "59212 -0.010  9.714  9.704       -0.018       9.712           68.725   \n",
       "\n",
       "       Motor_current  COMP  DV_eletric  Towers  MPG  LPS  Pressure_switch  \\\n",
       "0             0.0400   1.0         0.0     1.0  1.0  0.0              1.0   \n",
       "1             0.0400   1.0         0.0     1.0  1.0  0.0              1.0   \n",
       "2             0.0400   1.0         0.0     1.0  1.0  0.0              1.0   \n",
       "3             0.0400   0.0         0.0     0.0  0.0  0.0              0.0   \n",
       "4             0.0400   1.0         0.0     1.0  1.0  0.0              1.0   \n",
       "...              ...   ...         ...     ...  ...  ...              ...   \n",
       "59208         6.0050   0.0         1.0     1.0  0.0  0.0              1.0   \n",
       "59209         0.0400   1.0         0.0     1.0  1.0  0.0              1.0   \n",
       "59210         0.0400   1.0         0.0     1.0  1.0  0.0              1.0   \n",
       "59211         0.0350   1.0         0.0     1.0  1.0  0.0              1.0   \n",
       "59212         3.7375   1.0         0.0     1.0  1.0  0.0              1.0   \n",
       "\n",
       "       Oil_level  Caudal_impulses  \n",
       "0            1.0              1.0  \n",
       "1            1.0              1.0  \n",
       "2            1.0              1.0  \n",
       "3            0.0              0.0  \n",
       "4            1.0              1.0  \n",
       "...          ...              ...  \n",
       "59208        1.0              1.0  \n",
       "59209        1.0              1.0  \n",
       "59210        1.0              1.0  \n",
       "59211        1.0              1.0  \n",
       "59212        0.0              1.0  \n",
       "\n",
       "[59213 rows x 15 columns]"
      ]
     },
     "execution_count": 29,
     "metadata": {},
     "output_type": "execute_result"
    }
   ],
   "source": [
    "data_regression = pd.read_csv('RailGuadrs_Clean_Data.csv')\n",
    "X = data_regression.iloc[:, 2:-1]\n",
    "y = data_regression.iloc[:, -1]\n",
    "X"
   ]
  },
  {
   "cell_type": "code",
   "execution_count": 30,
   "id": "8f31d383",
   "metadata": {},
   "outputs": [
    {
     "data": {
      "text/plain": [
       "0        1\n",
       "1        1\n",
       "2        1\n",
       "3        1\n",
       "4        1\n",
       "        ..\n",
       "59208    0\n",
       "59209    0\n",
       "59210    0\n",
       "59211    0\n",
       "59212    0\n",
       "Name: status, Length: 59213, dtype: int64"
      ]
     },
     "execution_count": 30,
     "metadata": {},
     "output_type": "execute_result"
    }
   ],
   "source": [
    "y"
   ]
  },
  {
   "cell_type": "code",
   "execution_count": 31,
   "id": "5b2d317e",
   "metadata": {},
   "outputs": [
    {
     "name": "stdout",
     "output_type": "stream",
     "text": [
      "(47370, 15) (11843, 15)\n"
     ]
    },
    {
     "data": {
      "text/html": [
       "<div>\n",
       "<style scoped>\n",
       "    .dataframe tbody tr th:only-of-type {\n",
       "        vertical-align: middle;\n",
       "    }\n",
       "\n",
       "    .dataframe tbody tr th {\n",
       "        vertical-align: top;\n",
       "    }\n",
       "\n",
       "    .dataframe thead th {\n",
       "        text-align: right;\n",
       "    }\n",
       "</style>\n",
       "<table border=\"1\" class=\"dataframe\">\n",
       "  <thead>\n",
       "    <tr style=\"text-align: right;\">\n",
       "      <th></th>\n",
       "      <th>TP2</th>\n",
       "      <th>TP3</th>\n",
       "      <th>H1</th>\n",
       "      <th>DV_pressure</th>\n",
       "      <th>Reservoirs</th>\n",
       "      <th>Oil_temperature</th>\n",
       "      <th>Motor_current</th>\n",
       "      <th>COMP</th>\n",
       "      <th>DV_eletric</th>\n",
       "      <th>Towers</th>\n",
       "      <th>MPG</th>\n",
       "      <th>LPS</th>\n",
       "      <th>Pressure_switch</th>\n",
       "      <th>Oil_level</th>\n",
       "      <th>Caudal_impulses</th>\n",
       "    </tr>\n",
       "  </thead>\n",
       "  <tbody>\n",
       "    <tr>\n",
       "      <th>37015</th>\n",
       "      <td>-0.010</td>\n",
       "      <td>8.130</td>\n",
       "      <td>8.118</td>\n",
       "      <td>-0.018</td>\n",
       "      <td>8.132</td>\n",
       "      <td>54.200</td>\n",
       "      <td>0.0400</td>\n",
       "      <td>1.0</td>\n",
       "      <td>0.0</td>\n",
       "      <td>1.0</td>\n",
       "      <td>1.0</td>\n",
       "      <td>0.0</td>\n",
       "      <td>1.0</td>\n",
       "      <td>1.0</td>\n",
       "      <td>1.0</td>\n",
       "    </tr>\n",
       "    <tr>\n",
       "      <th>39048</th>\n",
       "      <td>-0.014</td>\n",
       "      <td>9.636</td>\n",
       "      <td>9.624</td>\n",
       "      <td>-0.022</td>\n",
       "      <td>9.636</td>\n",
       "      <td>59.400</td>\n",
       "      <td>3.8600</td>\n",
       "      <td>1.0</td>\n",
       "      <td>0.0</td>\n",
       "      <td>1.0</td>\n",
       "      <td>1.0</td>\n",
       "      <td>0.0</td>\n",
       "      <td>1.0</td>\n",
       "      <td>1.0</td>\n",
       "      <td>1.0</td>\n",
       "    </tr>\n",
       "    <tr>\n",
       "      <th>17097</th>\n",
       "      <td>7.954</td>\n",
       "      <td>8.160</td>\n",
       "      <td>-0.008</td>\n",
       "      <td>2.084</td>\n",
       "      <td>8.162</td>\n",
       "      <td>75.075</td>\n",
       "      <td>5.5625</td>\n",
       "      <td>0.0</td>\n",
       "      <td>1.0</td>\n",
       "      <td>1.0</td>\n",
       "      <td>0.0</td>\n",
       "      <td>0.0</td>\n",
       "      <td>1.0</td>\n",
       "      <td>1.0</td>\n",
       "      <td>1.0</td>\n",
       "    </tr>\n",
       "    <tr>\n",
       "      <th>2804</th>\n",
       "      <td>9.014</td>\n",
       "      <td>8.816</td>\n",
       "      <td>-0.010</td>\n",
       "      <td>2.010</td>\n",
       "      <td>8.820</td>\n",
       "      <td>74.150</td>\n",
       "      <td>5.6950</td>\n",
       "      <td>0.0</td>\n",
       "      <td>1.0</td>\n",
       "      <td>1.0</td>\n",
       "      <td>0.0</td>\n",
       "      <td>0.0</td>\n",
       "      <td>1.0</td>\n",
       "      <td>1.0</td>\n",
       "      <td>1.0</td>\n",
       "    </tr>\n",
       "    <tr>\n",
       "      <th>47985</th>\n",
       "      <td>-0.016</td>\n",
       "      <td>9.800</td>\n",
       "      <td>9.790</td>\n",
       "      <td>-0.026</td>\n",
       "      <td>9.798</td>\n",
       "      <td>64.125</td>\n",
       "      <td>3.7500</td>\n",
       "      <td>1.0</td>\n",
       "      <td>0.0</td>\n",
       "      <td>1.0</td>\n",
       "      <td>1.0</td>\n",
       "      <td>0.0</td>\n",
       "      <td>1.0</td>\n",
       "      <td>1.0</td>\n",
       "      <td>1.0</td>\n",
       "    </tr>\n",
       "    <tr>\n",
       "      <th>...</th>\n",
       "      <td>...</td>\n",
       "      <td>...</td>\n",
       "      <td>...</td>\n",
       "      <td>...</td>\n",
       "      <td>...</td>\n",
       "      <td>...</td>\n",
       "      <td>...</td>\n",
       "      <td>...</td>\n",
       "      <td>...</td>\n",
       "      <td>...</td>\n",
       "      <td>...</td>\n",
       "      <td>...</td>\n",
       "      <td>...</td>\n",
       "      <td>...</td>\n",
       "      <td>...</td>\n",
       "    </tr>\n",
       "    <tr>\n",
       "      <th>45891</th>\n",
       "      <td>-0.016</td>\n",
       "      <td>8.288</td>\n",
       "      <td>8.278</td>\n",
       "      <td>-0.022</td>\n",
       "      <td>8.288</td>\n",
       "      <td>53.000</td>\n",
       "      <td>0.0425</td>\n",
       "      <td>1.0</td>\n",
       "      <td>0.0</td>\n",
       "      <td>1.0</td>\n",
       "      <td>1.0</td>\n",
       "      <td>0.0</td>\n",
       "      <td>1.0</td>\n",
       "      <td>1.0</td>\n",
       "      <td>1.0</td>\n",
       "    </tr>\n",
       "    <tr>\n",
       "      <th>52416</th>\n",
       "      <td>-0.014</td>\n",
       "      <td>8.390</td>\n",
       "      <td>8.380</td>\n",
       "      <td>-0.016</td>\n",
       "      <td>8.398</td>\n",
       "      <td>59.200</td>\n",
       "      <td>0.0400</td>\n",
       "      <td>1.0</td>\n",
       "      <td>0.0</td>\n",
       "      <td>1.0</td>\n",
       "      <td>1.0</td>\n",
       "      <td>0.0</td>\n",
       "      <td>1.0</td>\n",
       "      <td>1.0</td>\n",
       "      <td>1.0</td>\n",
       "    </tr>\n",
       "    <tr>\n",
       "      <th>42613</th>\n",
       "      <td>-0.012</td>\n",
       "      <td>8.858</td>\n",
       "      <td>8.842</td>\n",
       "      <td>-0.020</td>\n",
       "      <td>8.862</td>\n",
       "      <td>57.075</td>\n",
       "      <td>0.0375</td>\n",
       "      <td>1.0</td>\n",
       "      <td>0.0</td>\n",
       "      <td>1.0</td>\n",
       "      <td>1.0</td>\n",
       "      <td>0.0</td>\n",
       "      <td>1.0</td>\n",
       "      <td>1.0</td>\n",
       "      <td>1.0</td>\n",
       "    </tr>\n",
       "    <tr>\n",
       "      <th>43567</th>\n",
       "      <td>-0.010</td>\n",
       "      <td>8.146</td>\n",
       "      <td>8.136</td>\n",
       "      <td>-0.014</td>\n",
       "      <td>8.152</td>\n",
       "      <td>63.275</td>\n",
       "      <td>0.0375</td>\n",
       "      <td>1.0</td>\n",
       "      <td>0.0</td>\n",
       "      <td>1.0</td>\n",
       "      <td>1.0</td>\n",
       "      <td>0.0</td>\n",
       "      <td>1.0</td>\n",
       "      <td>1.0</td>\n",
       "      <td>1.0</td>\n",
       "    </tr>\n",
       "    <tr>\n",
       "      <th>2732</th>\n",
       "      <td>9.052</td>\n",
       "      <td>8.856</td>\n",
       "      <td>-0.008</td>\n",
       "      <td>2.020</td>\n",
       "      <td>8.860</td>\n",
       "      <td>74.025</td>\n",
       "      <td>5.8475</td>\n",
       "      <td>0.0</td>\n",
       "      <td>1.0</td>\n",
       "      <td>1.0</td>\n",
       "      <td>0.0</td>\n",
       "      <td>0.0</td>\n",
       "      <td>1.0</td>\n",
       "      <td>1.0</td>\n",
       "      <td>1.0</td>\n",
       "    </tr>\n",
       "  </tbody>\n",
       "</table>\n",
       "<p>47370 rows × 15 columns</p>\n",
       "</div>"
      ],
      "text/plain": [
       "         TP2    TP3     H1  DV_pressure  Reservoirs  Oil_temperature  \\\n",
       "37015 -0.010  8.130  8.118       -0.018       8.132           54.200   \n",
       "39048 -0.014  9.636  9.624       -0.022       9.636           59.400   \n",
       "17097  7.954  8.160 -0.008        2.084       8.162           75.075   \n",
       "2804   9.014  8.816 -0.010        2.010       8.820           74.150   \n",
       "47985 -0.016  9.800  9.790       -0.026       9.798           64.125   \n",
       "...      ...    ...    ...          ...         ...              ...   \n",
       "45891 -0.016  8.288  8.278       -0.022       8.288           53.000   \n",
       "52416 -0.014  8.390  8.380       -0.016       8.398           59.200   \n",
       "42613 -0.012  8.858  8.842       -0.020       8.862           57.075   \n",
       "43567 -0.010  8.146  8.136       -0.014       8.152           63.275   \n",
       "2732   9.052  8.856 -0.008        2.020       8.860           74.025   \n",
       "\n",
       "       Motor_current  COMP  DV_eletric  Towers  MPG  LPS  Pressure_switch  \\\n",
       "37015         0.0400   1.0         0.0     1.0  1.0  0.0              1.0   \n",
       "39048         3.8600   1.0         0.0     1.0  1.0  0.0              1.0   \n",
       "17097         5.5625   0.0         1.0     1.0  0.0  0.0              1.0   \n",
       "2804          5.6950   0.0         1.0     1.0  0.0  0.0              1.0   \n",
       "47985         3.7500   1.0         0.0     1.0  1.0  0.0              1.0   \n",
       "...              ...   ...         ...     ...  ...  ...              ...   \n",
       "45891         0.0425   1.0         0.0     1.0  1.0  0.0              1.0   \n",
       "52416         0.0400   1.0         0.0     1.0  1.0  0.0              1.0   \n",
       "42613         0.0375   1.0         0.0     1.0  1.0  0.0              1.0   \n",
       "43567         0.0375   1.0         0.0     1.0  1.0  0.0              1.0   \n",
       "2732          5.8475   0.0         1.0     1.0  0.0  0.0              1.0   \n",
       "\n",
       "       Oil_level  Caudal_impulses  \n",
       "37015        1.0              1.0  \n",
       "39048        1.0              1.0  \n",
       "17097        1.0              1.0  \n",
       "2804         1.0              1.0  \n",
       "47985        1.0              1.0  \n",
       "...          ...              ...  \n",
       "45891        1.0              1.0  \n",
       "52416        1.0              1.0  \n",
       "42613        1.0              1.0  \n",
       "43567        1.0              1.0  \n",
       "2732         1.0              1.0  \n",
       "\n",
       "[47370 rows x 15 columns]"
      ]
     },
     "execution_count": 31,
     "metadata": {},
     "output_type": "execute_result"
    }
   ],
   "source": [
    "X_train, X_test, y_train, y_test = train_test_split(X, y, test_size=0.2, random_state=0)\n",
    "print(X_train.shape, X_test.shape)\n",
    "X_train"
   ]
  },
  {
   "cell_type": "code",
   "execution_count": 32,
   "id": "639c096d",
   "metadata": {},
   "outputs": [
    {
     "name": "stdout",
     "output_type": "stream",
     "text": [
      "Number of iterations: [100]\n"
     ]
    },
    {
     "name": "stderr",
     "output_type": "stream",
     "text": [
      "C:\\Users\\Saad-rougi\\AppData\\Local\\Packages\\PythonSoftwareFoundation.Python.3.9_qbz5n2kfra8p0\\LocalCache\\local-packages\\Python39\\site-packages\\sklearn\\linear_model\\_logistic.py:444: ConvergenceWarning: lbfgs failed to converge (status=1):\n",
      "STOP: TOTAL NO. of ITERATIONS REACHED LIMIT.\n",
      "\n",
      "Increase the number of iterations (max_iter) or scale the data as shown in:\n",
      "    https://scikit-learn.org/stable/modules/preprocessing.html\n",
      "Please also refer to the documentation for alternative solver options:\n",
      "    https://scikit-learn.org/stable/modules/linear_model.html#logistic-regression\n",
      "  n_iter_i = _check_optimize_result(\n"
     ]
    }
   ],
   "source": [
    "from sklearn.preprocessing import StandardScaler\n",
    "\n",
    "scaler = StandardScaler()\n",
    "X_train_scaled = scaler.fit_transform(X_train) \n",
    "\n",
    "model_regression = LogisticRegression()\n",
    "model_regression.fit(X_train_scaled, y_train)\n",
    "print(f\"Number of iterations: {model_regression.n_iter_}\")"
   ]
  },
  {
   "cell_type": "code",
   "execution_count": 33,
   "id": "5fb9ce49",
   "metadata": {},
   "outputs": [
    {
     "name": "stdout",
     "output_type": "stream",
     "text": [
      "Index(['TP2', 'TP3', 'H1', 'DV_pressure', 'Reservoirs', 'Oil_temperature',\n",
      "       'Motor_current', 'COMP', 'DV_eletric', 'Towers', 'MPG', 'LPS',\n",
      "       'Pressure_switch', 'Oil_level', 'Caudal_impulses'],\n",
      "      dtype='object')\n",
      "the coef of the model are : [[-1.73254207  0.1511405  -2.31108265  2.87848383 -0.15164017  3.36245929\n",
      "  -1.48750712 -1.88760664 -3.3206557  -0.05062239 -1.89496984  0.24348983\n",
      "   0.00667381  0.52991201  0.38831483]]\n",
      "the intercept is : [-1.17986783]\n"
     ]
    }
   ],
   "source": [
    "print(X_train.columns)\n",
    "print(f\"the coef of the model are : {model_regression.coef_}\")\n",
    "print(f\"the intercept is : {model_regression.intercept_}\")"
   ]
  },
  {
   "cell_type": "code",
   "execution_count": 34,
   "id": "e75270a7",
   "metadata": {},
   "outputs": [],
   "source": [
    "X_test_scaled = scaler.transform(X_test)"
   ]
  },
  {
   "cell_type": "code",
   "execution_count": 35,
   "id": "4fdb44dc",
   "metadata": {},
   "outputs": [],
   "source": [
    "y_pred = model_regression.predict(X_test_scaled)"
   ]
  },
  {
   "cell_type": "code",
   "execution_count": 36,
   "id": "22607d7b",
   "metadata": {},
   "outputs": [
    {
     "data": {
      "image/png": "[encoded data removed]",
      "text/plain": [
       "<Figure size 432x288 with 2 Axes>"
      ]
     },
     "metadata": {
      "needs_background": "light"
     },
     "output_type": "display_data"
    }
   ],
   "source": [
    "confusion_matrix = ConfusionMatrixDisplay.from_predictions(y_test, y_pred)\n",
    "plt.show()"
   ]
  },
  {
   "cell_type": "code",
   "execution_count": 37,
   "id": "af2a76f5",
   "metadata": {},
   "outputs": [
    {
     "name": "stdout",
     "output_type": "stream",
     "text": [
      "the accuracy is 0.9864054715865912\n",
      "              precision    recall  f1-score   support\n",
      "\n",
      "           0       0.99      0.98      0.99      5963\n",
      "           1       0.98      0.99      0.99      5880\n",
      "\n",
      "    accuracy                           0.99     11843\n",
      "   macro avg       0.99      0.99      0.99     11843\n",
      "weighted avg       0.99      0.99      0.99     11843\n",
      "\n"
     ]
    }
   ],
   "source": [
    "print(f'the accuracy is {accuracy_score(y_test, y_pred)}')\n",
    "print(classification_report(y_test, y_pred))"
   ]
  },
  {
   "cell_type": "code",
   "execution_count": null,
   "id": "7852ca2d",
   "metadata": {},
   "outputs": [],
   "source": [
    "y_prob = model_regression.predict_proba(X_test)[:, 1]\n",
    "for threshold in [0.2, 0.4, 0.6, 0.8]:\n",
    "    y_pred_threshold = (y_prob > threshold).astype(int)\n",
    "    fpr, tpr, _ = roc_curve(y_test, y_pred_threshold)\n",
    "    roc_auc = auc(fpr, tpr)\n",
    "    plt.plot(fpr, tpr, label='Threshold = {:.1f} (AUC = {:.8f})'.format(threshold, roc_auc))\n",
    "    #print(threshold, format(roc_auc))\n",
    "# Plot the \"Random\" line as a dashed line from (0,0) to (1,1) for reference\n",
    "plt.plot([0, 1], [0, 1], color='navy', lw=2, linestyle='--', label='Random')\n",
    "\n",
    "# Label axes and set the title for the plot\n",
    "plt.xlabel('False Positive Rate (FPR)')\n",
    "plt.ylabel('True Positive Rate (TPR) or Sensitivity')\n",
    "plt.title('Receiver Operating Characteristic (ROC) Curve with Different Thresholds')\n",
    "plt.legend(loc='lower right')\n",
    "plt.show()"
   ]
  },
  {
   "cell_type": "markdown",
   "id": "87704362",
   "metadata": {},
   "source": [
    "## Predict with LogisticRegression"
   ]
  },
  {
   "cell_type": "code",
   "execution_count": 39,
   "id": "f2e29c89",
   "metadata": {},
   "outputs": [
    {
     "data": {
      "text/html": [
       "<div>\n",
       "<style scoped>\n",
       "    .dataframe tbody tr th:only-of-type {\n",
       "        vertical-align: middle;\n",
       "    }\n",
       "\n",
       "    .dataframe tbody tr th {\n",
       "        vertical-align: top;\n",
       "    }\n",
       "\n",
       "    .dataframe thead th {\n",
       "        text-align: right;\n",
       "    }\n",
       "</style>\n",
       "<table border=\"1\" class=\"dataframe\">\n",
       "  <thead>\n",
       "    <tr style=\"text-align: right;\">\n",
       "      <th></th>\n",
       "      <th>timestamp</th>\n",
       "      <th>TP2</th>\n",
       "      <th>TP3</th>\n",
       "      <th>H1</th>\n",
       "      <th>DV_pressure</th>\n",
       "      <th>Reservoirs</th>\n",
       "      <th>Oil_temperature</th>\n",
       "      <th>Motor_current</th>\n",
       "      <th>COMP</th>\n",
       "      <th>DV_eletric</th>\n",
       "      <th>Towers</th>\n",
       "      <th>MPG</th>\n",
       "      <th>LPS</th>\n",
       "      <th>Pressure_switch</th>\n",
       "      <th>Oil_level</th>\n",
       "      <th>Caudal_impulses</th>\n",
       "    </tr>\n",
       "  </thead>\n",
       "  <tbody>\n",
       "    <tr>\n",
       "      <th>0</th>\n",
       "      <td>193.293044</td>\n",
       "      <td>-0.018</td>\n",
       "      <td>8.248</td>\n",
       "      <td>8.238</td>\n",
       "      <td>-0.024</td>\n",
       "      <td>8.248</td>\n",
       "      <td>49.45</td>\n",
       "      <td>0.04</td>\n",
       "      <td>1.0</td>\n",
       "      <td>0.0</td>\n",
       "      <td>1.0</td>\n",
       "      <td>1.0</td>\n",
       "      <td>0.0</td>\n",
       "      <td>1.0</td>\n",
       "      <td>1.0</td>\n",
       "      <td>1.0</td>\n",
       "    </tr>\n",
       "  </tbody>\n",
       "</table>\n",
       "</div>"
      ],
      "text/plain": [
       "    timestamp    TP2    TP3     H1  DV_pressure  Reservoirs  Oil_temperature  \\\n",
       "0  193.293044 -0.018  8.248  8.238       -0.024       8.248            49.45   \n",
       "\n",
       "   Motor_current  COMP  DV_eletric  Towers  MPG  LPS  Pressure_switch  \\\n",
       "0           0.04   1.0         0.0     1.0  1.0  0.0              1.0   \n",
       "\n",
       "   Oil_level  Caudal_impulses  \n",
       "0        1.0              1.0  "
      ]
     },
     "execution_count": 39,
     "metadata": {},
     "output_type": "execute_result"
    }
   ],
   "source": [
    "# Example: new sample based on the features\n",
    "new_sample = {\n",
    "    'timestamp': [193.293044], \n",
    "    'TP2': [-0.018],\n",
    "    'TP3': [8.248],\n",
    "    'H1': [8.238],\n",
    "    'DV_pressure': [-0.024],\n",
    "    'Reservoirs': [8.248],\n",
    "    'Oil_temperature': [49.450],\n",
    "    'Motor_current': [0.0400],\n",
    "    'COMP': [1.0],\n",
    "    'DV_eletric': [0.0],\n",
    "    'Towers': [1.0],\n",
    "    'MPG': [1.0],\n",
    "    'LPS': [0.0],\n",
    "    'Pressure_switch': [1.0],\n",
    "    'Oil_level': [1.0],\n",
    "    'Caudal_impulses': [1.0]\n",
    "}\n",
    "\n",
    "new_df = pd.DataFrame(new_sample)\n",
    "new_df"
   ]
  },
  {
   "cell_type": "code",
   "execution_count": 40,
   "id": "fe9833e3",
   "metadata": {},
   "outputs": [],
   "source": [
    "training_feature_names = X_train.columns\n",
    "new_df = new_df[training_feature_names]"
   ]
  },
  {
   "cell_type": "code",
   "execution_count": 41,
   "id": "1eaab558",
   "metadata": {},
   "outputs": [
    {
     "name": "stdout",
     "output_type": "stream",
     "text": [
      "Prediction (Class): [0]\n",
      "Probability of class 1: [2.85628828e-05]\n"
     ]
    }
   ],
   "source": [
    "new_scaled = scaler.transform(new_df)\n",
    "\n",
    "# Predict the class and probability\n",
    "y_pred = model_regression.predict(new_scaled)\n",
    "y_pred_prob = model_regression.predict_proba(new_scaled)[:, 1]\n",
    "\n",
    "print(f\"Prediction (Class): {y_pred}\")\n",
    "print(f\"Probability of class 1: {y_pred_prob}\")"
   ]
  },
  {
   "cell_type": "markdown",
   "id": "7b5b794b",
   "metadata": {},
   "source": [
    "# Deploy the Model"
   ]
  },
  {
   "cell_type": "code",
   "execution_count": 42,
   "id": "114bb5c9",
   "metadata": {},
   "outputs": [
    {
     "data": {
      "text/plain": [
       "['scaler_logistic.pkl']"
      ]
     },
     "execution_count": 42,
     "metadata": {},
     "output_type": "execute_result"
    }
   ],
   "source": [
    "import joblib\n",
    "\n",
    "# Save the trained logistic regression model\n",
    "joblib.dump(model_regression, 'logistic_regression_model.pkl')\n",
    "\n",
    "# Save the scaler\n",
    "joblib.dump(scaler, 'scaler_logistic.pkl')\n"
   ]
  },
  {
   "cell_type": "markdown",
   "id": "a354bad8",
   "metadata": {},
   "source": [
    "# Naive Bayes\n"
   ]
  },
  {
   "cell_type": "code",
   "execution_count": 43,
   "id": "5f2a0161",
   "metadata": {},
   "outputs": [],
   "source": [
    "import pandas as pd\n",
    "from sklearn.compose import ColumnTransformer\n",
    "from sklearn.pipeline import Pipeline\n",
    "from sklearn.preprocessing import MinMaxScaler\n",
    "from sklearn.model_selection import train_test_split\n",
    "from sklearn.naive_bayes import GaussianNB,MultinomialNB, BernoulliNB\n",
    "from sklearn.metrics import classification_report, confusion_matrix\n",
    "from sklearn.metrics import ConfusionMatrixDisplay\n",
    "import numpy as np\n",
    "import matplotlib.pyplot as plt"
   ]
  },
  {
   "cell_type": "code",
   "execution_count": 44,
   "id": "947daeee",
   "metadata": {},
   "outputs": [],
   "source": [
    "dataset = pd.read_csv('RailGuadrs_Clean_Data.csv')\n",
    "\n",
    "\n",
    "# Features and target\n",
    "features = ['timestamp', 'TP2', 'TP3', 'H1', 'DV_pressure', 'Reservoirs',\n",
    "            'Oil_temperature', 'Motor_current', 'COMP', 'DV_eletric',\n",
    "            'Towers', 'MPG', 'LPS', 'Pressure_switch', 'Oil_level', 'Caudal_impulses']\n",
    "target = 'status'\n"
   ]
  },
  {
   "cell_type": "code",
   "execution_count": 45,
   "id": "0bb94307",
   "metadata": {},
   "outputs": [],
   "source": [
    "# Convert timestamp to a scaled numeric value\n",
    "dataset['timestamp'] = pd.to_datetime(dataset['timestamp'], errors='coerce')\n",
    "dataset['timestamp'] = (dataset['timestamp'] - dataset['timestamp'].min()) / np.timedelta64(1, 'D')\n"
   ]
  },
  {
   "cell_type": "code",
   "execution_count": 46,
   "id": "a2d8baf9",
   "metadata": {},
   "outputs": [],
   "source": [
    "X = dataset[features]\n",
    "y = dataset[target]\n",
    "X_train, X_test, y_train, y_test = train_test_split(X, y, test_size=0.2, random_state=42)"
   ]
  },
  {
   "cell_type": "code",
   "execution_count": 47,
   "id": "d46dcc65",
   "metadata": {},
   "outputs": [],
   "source": [
    "# Initialize classifiers\n",
    "gaussian_classifier = GaussianNB()\n",
    "bernoulli_classifier = BernoulliNB()"
   ]
  },
  {
   "cell_type": "code",
   "execution_count": 48,
   "id": "ebaa4a54",
   "metadata": {},
   "outputs": [],
   "source": [
    "# MultinomialNB requires non-negative features, use MinMaxScaler for preprocessing\n",
    "multinomial_classifier = Pipeline([\n",
    "    ('Normalize', MinMaxScaler()),\n",
    "    ('MultinomialNB', MultinomialNB())\n",
    "])"
   ]
  },
  {
   "cell_type": "code",
   "execution_count": 49,
   "id": "3a9ac539",
   "metadata": {},
   "outputs": [
    {
     "data": {
      "text/html": [
       "<style>#sk-container-id-1 {color: black;background-color: white;}#sk-container-id-1 pre{padding: 0;}#sk-container-id-1 div.sk-toggleable {background-color: white;}#sk-container-id-1 label.sk-toggleable__label {cursor: pointer;display: block;width: 100%;margin-bottom: 0;padding: 0.3em;box-sizing: border-box;text-align: center;}#sk-container-id-1 label.sk-toggleable__label-arrow:before {content: \"▸\";float: left;margin-right: 0.25em;color: #696969;}#sk-container-id-1 label.sk-toggleable__label-arrow:hover:before {color: black;}#sk-container-id-1 div.sk-estimator:hover label.sk-toggleable__label-arrow:before {color: black;}#sk-container-id-1 div.sk-toggleable__content {max-height: 0;max-width: 0;overflow: hidden;text-align: left;background-color: #f0f8ff;}#sk-container-id-1 div.sk-toggleable__content pre {margin: 0.2em;color: black;border-radius: 0.25em;background-color: #f0f8ff;}#sk-container-id-1 input.sk-toggleable__control:checked~div.sk-toggleable__content {max-height: 200px;max-width: 100%;overflow: auto;}#sk-container-id-1 input.sk-toggleable__control:checked~label.sk-toggleable__label-arrow:before {content: \"▾\";}#sk-container-id-1 div.sk-estimator input.sk-toggleable__control:checked~label.sk-toggleable__label {background-color: #d4ebff;}#sk-container-id-1 div.sk-label input.sk-toggleable__control:checked~label.sk-toggleable__label {background-color: #d4ebff;}#sk-container-id-1 input.sk-hidden--visually {border: 0;clip: rect(1px 1px 1px 1px);clip: rect(1px, 1px, 1px, 1px);height: 1px;margin: -1px;overflow: hidden;padding: 0;position: absolute;width: 1px;}#sk-container-id-1 div.sk-estimator {font-family: monospace;background-color: #f0f8ff;border: 1px dotted black;border-radius: 0.25em;box-sizing: border-box;margin-bottom: 0.5em;}#sk-container-id-1 div.sk-estimator:hover {background-color: #d4ebff;}#sk-container-id-1 div.sk-parallel-item::after {content: \"\";width: 100%;border-bottom: 1px solid gray;flex-grow: 1;}#sk-container-id-1 div.sk-label:hover label.sk-toggleable__label {background-color: #d4ebff;}#sk-container-id-1 div.sk-serial::before {content: \"\";position: absolute;border-left: 1px solid gray;box-sizing: border-box;top: 0;bottom: 0;left: 50%;z-index: 0;}#sk-container-id-1 div.sk-serial {display: flex;flex-direction: column;align-items: center;background-color: white;padding-right: 0.2em;padding-left: 0.2em;position: relative;}#sk-container-id-1 div.sk-item {position: relative;z-index: 1;}#sk-container-id-1 div.sk-parallel {display: flex;align-items: stretch;justify-content: center;background-color: white;position: relative;}#sk-container-id-1 div.sk-item::before, #sk-container-id-1 div.sk-parallel-item::before {content: \"\";position: absolute;border-left: 1px solid gray;box-sizing: border-box;top: 0;bottom: 0;left: 50%;z-index: -1;}#sk-container-id-1 div.sk-parallel-item {display: flex;flex-direction: column;z-index: 1;position: relative;background-color: white;}#sk-container-id-1 div.sk-parallel-item:first-child::after {align-self: flex-end;width: 50%;}#sk-container-id-1 div.sk-parallel-item:last-child::after {align-self: flex-start;width: 50%;}#sk-container-id-1 div.sk-parallel-item:only-child::after {width: 0;}#sk-container-id-1 div.sk-dashed-wrapped {border: 1px dashed gray;margin: 0 0.4em 0.5em 0.4em;box-sizing: border-box;padding-bottom: 0.4em;background-color: white;}#sk-container-id-1 div.sk-label label {font-family: monospace;font-weight: bold;display: inline-block;line-height: 1.2em;}#sk-container-id-1 div.sk-label-container {text-align: center;}#sk-container-id-1 div.sk-container {/* jupyter's `normalize.less` sets `[hidden] { display: none; }` but bootstrap.min.css set `[hidden] { display: none !important; }` so we also need the `!important` here to be able to override the default hidden behavior on the sphinx rendered scikit-learn.org. See: https://github.com/scikit-learn/scikit-learn/issues/21755 */display: inline-block !important;position: relative;}#sk-container-id-1 div.sk-text-repr-fallback {display: none;}</style><div id=\"sk-container-id-1\" class=\"sk-top-container\"><div class=\"sk-text-repr-fallback\"><pre>BernoulliNB()</pre><b>In a Jupyter environment, please rerun this cell to show the HTML representation or trust the notebook. <br />On GitHub, the HTML representation is unable to render, please try loading this page with nbviewer.org.</b></div><div class=\"sk-container\" hidden><div class=\"sk-item\"><div class=\"sk-estimator sk-toggleable\"><input class=\"sk-toggleable__control sk-hidden--visually\" id=\"sk-estimator-id-1\" type=\"checkbox\" checked><label for=\"sk-estimator-id-1\" class=\"sk-toggleable__label sk-toggleable__label-arrow\">BernoulliNB</label><div class=\"sk-toggleable__content\"><pre>BernoulliNB()</pre></div></div></div></div></div>"
      ],
      "text/plain": [
       "BernoulliNB()"
      ]
     },
     "execution_count": 49,
     "metadata": {},
     "output_type": "execute_result"
    }
   ],
   "source": [
    "# Train the models\n",
    "gaussian_classifier.fit(X_train, y_train)\n",
    "multinomial_classifier.fit(X_train, y_train)\n",
    "bernoulli_classifier.fit(X_train, y_train)"
   ]
  },
  {
   "cell_type": "code",
   "execution_count": 50,
   "id": "7b48dcc8",
   "metadata": {},
   "outputs": [
    {
     "name": "stdout",
     "output_type": "stream",
     "text": [
      "\n",
      "GaussianNB Classification Report:\n",
      "              precision    recall  f1-score   support\n",
      "\n",
      "           0       0.99      0.91      0.95      5938\n",
      "           1       0.91      1.00      0.95      5905\n",
      "\n",
      "    accuracy                           0.95     11843\n",
      "   macro avg       0.95      0.95      0.95     11843\n",
      "weighted avg       0.95      0.95      0.95     11843\n",
      "\n",
      "\n",
      "MultinomialNB Classification Report:\n",
      "              precision    recall  f1-score   support\n",
      "\n",
      "           0       0.99      0.86      0.92      5938\n",
      "           1       0.87      1.00      0.93      5905\n",
      "\n",
      "    accuracy                           0.93     11843\n",
      "   macro avg       0.93      0.93      0.93     11843\n",
      "weighted avg       0.94      0.93      0.93     11843\n",
      "\n",
      "\n",
      "BernoulliNB Classification Report:\n",
      "              precision    recall  f1-score   support\n",
      "\n",
      "           0       0.99      0.86      0.92      5938\n",
      "           1       0.88      0.99      0.93      5905\n",
      "\n",
      "    accuracy                           0.93     11843\n",
      "   macro avg       0.94      0.93      0.93     11843\n",
      "weighted avg       0.94      0.93      0.93     11843\n",
      "\n"
     ]
    },
    {
     "data": {
      "image/png": "[encoded data removed]",
      "text/plain": [
       "<Figure size 432x288 with 2 Axes>"
      ]
     },
     "metadata": {
      "needs_background": "light"
     },
     "output_type": "display_data"
    },
    {
     "data": {
      "image/png": "[encoded data removed]",
      "text/plain": [
       "<Figure size 432x288 with 2 Axes>"
      ]
     },
     "metadata": {
      "needs_background": "light"
     },
     "output_type": "display_data"
    },
    {
     "data": {
      "image/png": "[encoded data removed]",
      "text/plain": [
       "<Figure size 432x288 with 2 Axes>"
      ]
     },
     "metadata": {
      "needs_background": "light"
     },
     "output_type": "display_data"
    },
    {
     "data": {
      "image/png": "[encoded data removed]",
      "text/plain": [
       "<Figure size 432x288 with 2 Axes>"
      ]
     },
     "metadata": {
      "needs_background": "light"
     },
     "output_type": "display_data"
    },
    {
     "data": {
      "image/png": "[encoded data removed]",
      "text/plain": [
       "<Figure size 432x288 with 2 Axes>"
      ]
     },
     "metadata": {
      "needs_background": "light"
     },
     "output_type": "display_data"
    },
    {
     "data": {
      "image/png": "[encoded data removed]",
      "text/plain": [
       "<Figure size 432x288 with 2 Axes>"
      ]
     },
     "metadata": {
      "needs_background": "light"
     },
     "output_type": "display_data"
    }
   ],
   "source": [
    "# Evaluate each model\n",
    "for name, model in [\n",
    "    (\"GaussianNB\", gaussian_classifier),\n",
    "    (\"MultinomialNB\", multinomial_classifier),\n",
    "    (\"BernoulliNB\", bernoulli_classifier)\n",
    "]:\n",
    "    y_pred = model.predict(X_test)\n",
    "    print(f\"\\n{name} Classification Report:\")\n",
    "    print(classification_report(y_test, y_pred))\n",
    "    ConfusionMatrixDisplay.from_predictions(y_test, y_pred).plot()"
   ]
  },
  {
   "cell_type": "code",
   "execution_count": 51,
   "id": "91a9917d",
   "metadata": {},
   "outputs": [],
   "source": [
    "new_sample = {\n",
    "    'timestamp': [1.5],  # Replace with a realistic scaled timestamp\n",
    "    'TP2': [-0.018],\n",
    "    'TP3': [8.248],\n",
    "    'H1': [8.238],\n",
    "    'DV_pressure': [-0.024],\n",
    "    'Reservoirs': [8.248],\n",
    "    'Oil_temperature': [49.450],\n",
    "    'Motor_current': [0.0400],\n",
    "    'COMP': [1.0],\n",
    "    'DV_eletric': [0.0],\n",
    "    'Towers': [1.0],\n",
    "    'MPG': [1.0],\n",
    "    'LPS': [0.0],\n",
    "    'Pressure_switch': [1.0],\n",
    "    'Oil_level': [1.0],\n",
    "    'Caudal_impulses': [1.0]\n",
    "}"
   ]
  },
  {
   "cell_type": "code",
   "execution_count": 52,
   "id": "096ae01e",
   "metadata": {},
   "outputs": [],
   "source": [
    "# Create DataFrame\n",
    "new_df = pd.DataFrame(new_sample)\n",
    "\n",
    "# Ensure column order matches training data\n",
    "training_feature_names = [\n",
    "    'timestamp', 'TP2', 'TP3', 'H1', 'DV_pressure', 'Reservoirs',\n",
    "    'Oil_temperature', 'Motor_current', 'COMP', 'DV_eletric',\n",
    "    'Towers', 'MPG', 'LPS', 'Pressure_switch', 'Oil_level', 'Caudal_impulses'\n",
    "]\n",
    "new_df = new_df[training_feature_names]"
   ]
  },
  {
   "cell_type": "code",
   "execution_count": 53,
   "id": "63168077",
   "metadata": {},
   "outputs": [
    {
     "name": "stdout",
     "output_type": "stream",
     "text": [
      "Prediction (Class): ['Not Failure']\n",
      "Probability of Failure: [1.04476067e-252]\n"
     ]
    }
   ],
   "source": [
    "# Predict the class and probability for the new sample\n",
    "y_pred_gaussian = gaussian_classifier.predict(new_df)\n",
    "y_pred_gaussian_prob = gaussian_classifier.predict_proba(new_df)[:, 1]\n",
    "\n",
    "# Map the prediction to class labels\n",
    "class_labels = {0: \"Not Failure\", 1: \"Failure\"}\n",
    "predicted_label = [class_labels[label] for label in y_pred_gaussian]\n",
    "\n",
    "# Output the results\n",
    "print(f\"Prediction (Class): {predicted_label}\")\n",
    "print(f\"Probability of Failure: {y_pred_gaussian_prob}\")\n"
   ]
  },
  {
   "cell_type": "markdown",
   "id": "d4943784",
   "metadata": {},
   "source": [
    "## Deploy the Naive bayes"
   ]
  },
  {
   "cell_type": "code",
   "execution_count": 54,
   "id": "aac570cd",
   "metadata": {},
   "outputs": [
    {
     "data": {
      "text/plain": [
       "['bernoulli_nb_model.pkl']"
      ]
     },
     "execution_count": 54,
     "metadata": {},
     "output_type": "execute_result"
    }
   ],
   "source": [
    "joblib.dump(gaussian_classifier, 'gaussian_nb_model.pkl')\n",
    "joblib.dump(multinomial_classifier, 'multinomial_nb_model.pkl')\n",
    "joblib.dump(bernoulli_classifier, 'bernoulli_nb_model.pkl')"
   ]
  },
  {
   "cell_type": "markdown",
   "id": "1cc35ef5",
   "metadata": {},
   "source": [
    "# XGBoost"
   ]
  },
  {
   "cell_type": "code",
   "execution_count": null,
   "id": "200f0a2e",
   "metadata": {},
   "outputs": [],
   "source": [
    "import pandas as pd\n",
    "import numpy as np\n",
    "from xgboost import XGBClassifier\n",
    "from sklearn.model_selection import train_test_split\n",
    "from sklearn.metrics import classification_report, ConfusionMatrixDisplay\n",
    "from sklearn.preprocessing import MinMaxScaler\n"
   ]
  },
  {
   "cell_type": "code",
   "execution_count": null,
   "id": "0271d69b",
   "metadata": {},
   "outputs": [],
   "source": [
    "# Load dataset\n",
    "df = pd.read_csv('RailGuadrs_Clean_Data.csv')\n",
    "\n",
    "# Convert timestamp to numerical values\n",
    "df['timestamp'] = pd.to_datetime(df['timestamp'], errors='coerce')\n",
    "df['timestamp'] = (df['timestamp'] - df['timestamp'].min()) / pd.Timedelta(days=1)\n",
    "\n",
    "# Drop unnecessary columns\n",
    "df = df.drop(columns=['Unnamed: 0'])\n",
    "\n",
    "# Display the first rows of the cleaned dataset\n",
    "print(df.head())\n"
   ]
  },
  {
   "cell_type": "code",
   "execution_count": null,
   "id": "6ef549f6",
   "metadata": {},
   "outputs": [],
   "source": [
    "# Features and target\n",
    "X = df.drop(columns=['status'])  # All columns except 'status'\n",
    "y = df['status']  # Target column\n",
    "\n",
    "\n",
    "X_train, X_test, y_train, y_test = train_test_split(X, y, test_size=0.2, random_state=42)\n",
    "\n",
    "print(\"Training set size:\", X_train.shape)\n",
    "print(\"Test set size:\", X_test.shape)\n",
    "\n",
    "# Normalize features\n",
    "scaler = MinMaxScaler()\n",
    "X_train = scaler.fit_transform(X_train)\n",
    "X_test = scaler.transform(X_test)"
   ]
  },
  {
   "cell_type": "code",
   "execution_count": null,
   "id": "a513e63a",
   "metadata": {},
   "outputs": [],
   "source": [
    "# Initialize XGBoost model\n",
    "xgb_model = XGBClassifier(\n",
    "    max_depth=6,\n",
    "    n_estimators=100,\n",
    "    learning_rate=0.1,\n",
    "    objective='binary:logistic',\n",
    "    random_state=42\n",
    ")\n",
    "\n",
    "# Train the model\n",
    "xgb_model.fit(X_train, y_train)\n",
    "\n",
    "print(\"Model training completed!\")\n"
   ]
  },
  {
   "cell_type": "code",
   "execution_count": null,
   "id": "2cadfc9b",
   "metadata": {},
   "outputs": [],
   "source": [
    "y_pred = xgb_model.predict(X_test)\n",
    "\n",
    "# Print classification report\n",
    "print(\"Classification Report:\")\n",
    "print(classification_report(y_test, y_pred))\n",
    "\n",
    "# Display confusion matrix\n",
    "ConfusionMatrixDisplay.from_predictions(y_test, y_pred)\n"
   ]
  },
  {
   "cell_type": "code",
   "execution_count": null,
   "id": "0e67566f",
   "metadata": {},
   "outputs": [],
   "source": [
    "import joblib\n",
    "\n",
    "# Save the model\n",
    "joblib.dump(xgb_model, 'xgb_model.pkl')\n",
    "\n",
    "# Save the scaler\n",
    "joblib.dump(scaler, 'scaler_xgb.pkl')\n",
    "\n",
    "print(\"Model and scaler saved successfully!\")"
   ]
  },
  {
   "cell_type": "code",
   "execution_count": null,
   "id": "267f1a79",
   "metadata": {},
   "outputs": [],
   "source": [
    "# Load the saved model\n",
    "xgb_model = joblib.load('xgb_model.pkl')\n",
    "scaler = joblib.load('scaler_xgb.pkl')\n",
    "\n",
    "\n",
    "# Example new data\n",
    "new_sample = {\n",
    "    'timestamp': [1.5],  # Replace with a realistic scaled timestamp\n",
    "    'TP2': [30.018],\n",
    "    'TP3': [8.248],\n",
    "    'H1': [25.238],\n",
    "    'DV_pressure': [5.024],\n",
    "    'Reservoirs': [-88.248],\n",
    "    'Oil_temperature': [80.450],\n",
    "    'Motor_current': [10.0400],\n",
    "    'COMP': [0.0],\n",
    "    'DV_eletric': [0.0],\n",
    "    'Towers': [0.0],\n",
    "    'MPG': [0.0],\n",
    "    'LPS': [1.0],\n",
    "    'Pressure_switch': [0.0],\n",
    "    'Oil_level': [1.0],\n",
    "    'Caudal_impulses': [1.0]\n",
    "}\n",
    "\n",
    "\n",
    "# Convert to DataFrame\n",
    "new_df = pd.DataFrame(new_sample)\n",
    "\n",
    "# Scale the new data\n",
    "new_df_scaled = scaler.transform(new_df)\n",
    "\n",
    "# Predict\n",
    "prediction = xgb_model.predict(new_df_scaled)\n",
    "print(\"Prediction (Class):\", \"Failure\" if prediction[0] == 1 else \"Normal\")\n"
   ]
  },
  {
   "cell_type": "markdown",
   "id": "073fec92",
   "metadata": {},
   "source": [
    "# DeepLearning"
   ]
  },
  {
   "cell_type": "markdown",
   "id": "3b9b652f",
   "metadata": {},
   "source": [
    "##  dataset Preparation"
   ]
  },
  {
   "cell_type": "code",
   "execution_count": null,
   "id": "9d026785",
   "metadata": {},
   "outputs": [],
   "source": [
    "# Load dataset\n",
    "df = pd.read_csv('RailGuadrs_Clean_Data.csv')\n",
    "\n",
    "# Drop unnecessary columns\n",
    "df = df.drop(columns=['Unnamed: 0', 'timestamp'])\n",
    "\n",
    "# Drop any remaining NaN values\n",
    "df = df.dropna()\n",
    "\n",
    "# Features and target\n",
    "X = df.drop(columns=['status'])  # All columns except 'status'\n",
    "y = df['status']  # Target column\n",
    "\n",
    "# Train-test split\n",
    "X_train, X_test, y_train, y_test = train_test_split(X, y, test_size=0.2, random_state=42)\n",
    "\n",
    "# Normalize the data\n",
    "scaler = MinMaxScaler()\n",
    "X_train = scaler.fit_transform(X_train)\n",
    "X_test = scaler.transform(X_test)\n"
   ]
  },
  {
   "cell_type": "code",
   "execution_count": null,
   "id": "8ff70ee1",
   "metadata": {},
   "outputs": [],
   "source": [
    "import pandas as pd\n",
    "from sklearn.model_selection import train_test_split\n",
    "from sklearn.preprocessing import MinMaxScaler\n",
    "from tensorflow.keras.models import Sequential\n",
    "from tensorflow.keras.layers import Dense\n",
    "from tensorflow.keras.optimizers import Adam\n",
    "\n",
    "\n",
    "\n",
    "# Load dataset\n",
    "df = pd.read_csv('RailGuadrs_Clean_Data.csv')\n",
    "\n",
    "# Convert timestamp to numerical values\n",
    "df['timestamp'] = pd.to_datetime(df['timestamp'], errors='coerce')\n",
    "df['timestamp'] = (df['timestamp'] - df['timestamp'].min()) / pd.Timedelta(days=1)\n",
    "\n",
    "# Drop unnecessary columns\n",
    "df = df.drop(columns=['Unnamed: 0'])\n",
    "\n",
    "# Features and target\n",
    "X = df.drop(columns=['status'])\n",
    "y = df['status']\n",
    "\n",
    "# Train-test split\n",
    "X_train, X_test, y_train, y_test = train_test_split(X, y, test_size=0.2, random_state=42)\n",
    "\n",
    "# Normalize features\n",
    "scaler = MinMaxScaler()\n",
    "X_train = scaler.fit_transform(X_train)\n",
    "X_test = scaler.transform(X_test)\n"
   ]
  },
  {
   "cell_type": "code",
   "execution_count": null,
   "id": "bde4f5d9",
   "metadata": {},
   "outputs": [],
   "source": [
    "# Load dataset\n",
    "df = pd.read_csv('RailGuadrs_Clean_Data.csv')\n",
    "\n",
    "# Convert timestamp to numerical values\n",
    "df['timestamp'] = pd.to_datetime(df['timestamp'], errors='coerce')\n",
    "df['timestamp'] = (df['timestamp'] - df['timestamp'].min()) / pd.Timedelta(days=1)\n",
    "\n",
    "# Drop unnecessary columns\n",
    "df = df.drop(columns=['Unnamed: 0'])\n",
    "\n",
    "# Features and target\n",
    "X = df.drop(columns=['status'])\n",
    "y = df['status']\n",
    "\n",
    "# Train-test split\n",
    "X_train, X_test, y_train, y_test = train_test_split(X, y, test_size=0.2, random_state=42)\n",
    "\n",
    "# Normalize features\n",
    "scaler = MinMaxScaler()\n",
    "X_train = scaler.fit_transform(X_train)\n",
    "X_test = scaler.transform(X_test)"
   ]
  },
  {
   "cell_type": "code",
   "execution_count": null,
   "id": "66fa2edc",
   "metadata": {},
   "outputs": [],
   "source": [
    "# Define the model\n",
    "model = Sequential([\n",
    "    Dense(64, activation='relu', input_shape=(X_train.shape[1],)),  # Input layer + first hidden layer\n",
    "    Dense(32, activation='relu'),  # Second hidden layer\n",
    "    Dense(1, activation='sigmoid')  # Output layer for binary classification\n",
    "])\n",
    "\n",
    "# Compile the model\n",
    "model.compile(optimizer=Adam(learning_rate=0.001), loss='binary_crossentropy', metrics=['accuracy'])\n",
    "\n",
    "\n",
    "\n",
    "# Train the model\n",
    "history = model.fit(X_train, y_train, epochs=50, batch_size=32, validation_split=0.2, verbose=1)\n",
    "\n",
    "# Evaluate the model\n",
    "loss, accuracy = model.evaluate(X_test, y_test, verbose=0)\n",
    "print(f\"Test Accuracy: {accuracy * 100:.2f}%\")\n"
   ]
  },
  {
   "cell_type": "code",
   "execution_count": null,
   "id": "e3049693",
   "metadata": {},
   "outputs": [],
   "source": [
    "from sklearn.metrics import classification_report, ConfusionMatrixDisplay\n",
    "\n",
    "# Predict on the test set\n",
    "y_pred = (model.predict(X_test) > 0.5).astype(\"int32\")\n",
    "\n",
    "# Print classification report\n",
    "print(\"Classification Report:\")\n",
    "print(classification_report(y_test, y_pred))\n",
    "\n",
    "# Confusion matrix\n",
    "ConfusionMatrixDisplay.from_predictions(y_test, y_pred)\n"
   ]
  },
  {
   "cell_type": "code",
   "execution_count": null,
   "id": "fce7a239",
   "metadata": {},
   "outputs": [],
   "source": [
    "# Save the model\n",
    "model.save('neural_net_model.h5')\n",
    "\n",
    "# Save the scaler\n",
    "import joblib\n",
    "joblib.dump(scaler, 'scaler_net.pkl')\n",
    "\n",
    "print(\"Model and scaler saved successfully!\")\n"
   ]
  }
 ],
 "metadata": {
  "colab": {
   "collapsed_sections": [
    "tlgQsE5x3fEE",
    "3eb2efc4-bd6e-4501-a39b-6f7ef141c8a1",
    "5bca1be5-5d0e-4317-a375-dedbe9168c00",
    "A8iLUYDTpjfI",
    "18c5a153-7fb2-4b7d-86d9-a41322313752"
   ],
   "provenance": []
  },
  "kernelspec": {
   "display_name": "Python 3",
   "language": "python",
   "name": "python3"
  },
  "language_info": {
   "codemirror_mode": {
    "name": "ipython",
    "version": 3
   },
   "file_extension": ".py",
   "mimetype": "text/x-python",
   "name": "python",
   "nbconvert_exporter": "python",
   "pygments_lexer": "ipython3",
   "version": "3.9.13"
  }
 },
 "nbformat": 4,
 "nbformat_minor": 5
}
